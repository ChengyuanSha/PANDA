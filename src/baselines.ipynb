{
 "cells": [
  {
   "cell_type": "code",
   "execution_count": 1,
   "metadata": {
    "collapsed": true
   },
   "outputs": [],
   "source": [
    "import torch\n",
    "import random\n",
    "import networkx as nx\n",
    "import math\n",
    "import pandas as pd\n",
    "import numpy as np\n",
    "import warnings\n",
    "warnings.filterwarnings('ignore')\n",
    "\n",
    "# seed for reproducibility\n",
    "seed = 0\n",
    "torch.manual_seed(seed)\n",
    "np.random.seed(seed)\n",
    "random.seed(seed)\n"
   ]
  },
  {
   "cell_type": "code",
   "execution_count": 2,
   "outputs": [],
   "source": [
    "# read and process input data\n",
    "with open(\"../data/HMIN_edgelist.csv\", 'r') as data:\n",
    "    G = nx.parse_edgelist(data, delimiter=',', create_using=nx.Graph(), nodetype=int)\n",
    "# autism df\n",
    "autism_df = pd.read_csv('../data/labeled_genes.csv')\n",
    "autism_df = autism_df.drop_duplicates(subset='entrez_id', keep=\"last\")\n",
    "autism_nodes = autism_df['entrez_id'].to_list()\n",
    "\n",
    "G = G.subgraph(autism_nodes)\n"
   ],
   "metadata": {
    "collapsed": false,
    "pycharm": {
     "name": "#%%\n"
    }
   }
  },
  {
   "cell_type": "code",
   "execution_count": 3,
   "outputs": [],
   "source": [
    "autism_df['label'][autism_df['confidence'] == 0.5] = 0\n",
    "# y label\n",
    "y = torch.tensor(autism_df['label'].to_list()).numpy()\n",
    "# autism_df['label'].value_counts()"
   ],
   "metadata": {
    "collapsed": false,
    "pycharm": {
     "name": "#%%\n"
    }
   }
  },
  {
   "cell_type": "code",
   "execution_count": 4,
   "outputs": [],
   "source": [
    "# Hand engineered features\n",
    "# feature: node degree\n",
    "degrees = torch.tensor([val for (node, val) in G.degree()], dtype=torch.float)\n",
    "# closeness\n",
    "closeness = torch.tensor([val for (node, val) in nx.closeness_centrality(G).items()], dtype=torch.float)\n",
    "#  Betweenness\n",
    "betweenness =  torch.tensor([val for (node, val) in nx.betweenness_centrality(G).items()], dtype=torch.float)\n",
    "# feature: eigenvector_centrality\n",
    "ec = torch.tensor([val for (node, val) in nx.eigenvector_centrality(G).items()], dtype=torch.float)\n",
    "# feature: page rank\n",
    "pr = torch.tensor([val for (node, val) in nx.pagerank(G, alpha=0.9).items()], dtype=torch.float)\n",
    "# feature: coreness\n",
    "coreness = torch.tensor([val for (node, val) in nx.core_number(G).items()], dtype=torch.float)\n",
    "\n",
    "X = torch.stack((degrees, closeness, betweenness, pr, ec, coreness)).t().numpy()"
   ],
   "metadata": {
    "collapsed": false,
    "pycharm": {
     "name": "#%%\n"
    }
   }
  },
  {
   "cell_type": "code",
   "execution_count": 5,
   "outputs": [
    {
     "data": {
      "text/plain": "(1835, 6)"
     },
     "execution_count": 5,
     "metadata": {},
     "output_type": "execute_result"
    }
   ],
   "source": [
    "X.shape"
   ],
   "metadata": {
    "collapsed": false,
    "pycharm": {
     "name": "#%%\n"
    }
   }
  },
  {
   "cell_type": "code",
   "execution_count": 36,
   "outputs": [],
   "source": [
    "from sklearn.model_selection import train_test_split\n",
    "from sklearn.ensemble import RandomForestClassifier\n",
    "from sklearn.metrics import accuracy_score\n",
    "from sklearn.model_selection import cross_val_score\n",
    "from sklearn.svm import SVC\n",
    "from sklearn.metrics import f1_score,  recall_score, precision_score"
   ],
   "metadata": {
    "collapsed": false,
    "pycharm": {
     "name": "#%%\n"
    }
   }
  },
  {
   "cell_type": "code",
   "execution_count": 13,
   "outputs": [],
   "source": [
    "X_train,X_test,y_train,y_test=train_test_split(X, y, test_size=0.3, random_state=0)"
   ],
   "metadata": {
    "collapsed": false,
    "pycharm": {
     "name": "#%%\n"
    }
   }
  },
  {
   "cell_type": "code",
   "execution_count": 14,
   "outputs": [],
   "source": [
    "X_test,X_val,y_test,y_val =train_test_split(X_test, y_test, test_size=0.5, random_state=0)"
   ],
   "metadata": {
    "collapsed": false,
    "pycharm": {
     "name": "#%%\n"
    }
   }
  },
  {
   "cell_type": "markdown",
   "source": [
    "### Random Forest"
   ],
   "metadata": {
    "collapsed": false,
    "pycharm": {
     "name": "#%% md\n"
    }
   }
  },
  {
   "cell_type": "markdown",
   "source": [
    "Hand parameter tuning the hyperparameters based on the performance on the validation set:\n",
    "max_depth: 5 - 25\n",
    "n_estimators: 50 - 150"
   ],
   "metadata": {
    "collapsed": false
   }
  },
  {
   "cell_type": "code",
   "execution_count": 30,
   "outputs": [
    {
     "data": {
      "text/plain": "RandomForestClassifier(max_depth=15)"
     },
     "execution_count": 30,
     "metadata": {},
     "output_type": "execute_result"
    }
   ],
   "source": [
    "model_rf = RandomForestClassifier(max_depth=15, n_estimators=100)\n",
    "model_rf.fit(X_train,y_train)"
   ],
   "metadata": {
    "collapsed": false,
    "pycharm": {
     "name": "#%%\n"
    }
   }
  },
  {
   "cell_type": "code",
   "execution_count": 31,
   "outputs": [],
   "source": [
    "y_pred = model_rf.predict(X_val)"
   ],
   "metadata": {
    "collapsed": false,
    "pycharm": {
     "name": "#%%\n"
    }
   }
  },
  {
   "cell_type": "code",
   "execution_count": 32,
   "outputs": [
    {
     "data": {
      "text/plain": "0.8586956521739131"
     },
     "execution_count": 32,
     "metadata": {},
     "output_type": "execute_result"
    }
   ],
   "source": [
    "accuracy_score(y_val, y_pred)"
   ],
   "metadata": {
    "collapsed": false,
    "pycharm": {
     "name": "#%%\n"
    }
   }
  },
  {
   "cell_type": "code",
   "execution_count": 33,
   "outputs": [],
   "source": [
    "y_pred = model_rf.predict(X_test)"
   ],
   "metadata": {
    "collapsed": false,
    "pycharm": {
     "name": "#%%\n"
    }
   }
  },
  {
   "cell_type": "code",
   "execution_count": 34,
   "outputs": [
    {
     "data": {
      "text/plain": "0.8436363636363636"
     },
     "execution_count": 34,
     "metadata": {},
     "output_type": "execute_result"
    }
   ],
   "source": [
    "accuracy_score(y_test, y_pred)"
   ],
   "metadata": {
    "collapsed": false,
    "pycharm": {
     "name": "#%%\n"
    }
   }
  },
  {
   "cell_type": "code",
   "execution_count": 35,
   "outputs": [
    {
     "name": "stdout",
     "output_type": "stream",
     "text": [
      "f1:  0.9052035144342835 precision:  0.9764642166344294 recall:  0.8436363636363636\n"
     ]
    }
   ],
   "source": [
    "f1 = f1_score(y_pred, y_test, average='weighted')\n",
    "precision = precision_score(y_pred, y_test, average='weighted')\n",
    "recall = recall_score(y_pred, y_test,average='weighted')\n",
    "print('f1: ', f1, 'precision: ', precision, 'recall: ', recall )"
   ],
   "metadata": {
    "collapsed": false,
    "pycharm": {
     "name": "#%%\n"
    }
   }
  },
  {
   "cell_type": "markdown",
   "source": [
    "### SVM\n"
   ],
   "metadata": {
    "collapsed": false,
    "pycharm": {
     "name": "#%% md\n"
    }
   },
   "execution_count": 11
  },
  {
   "cell_type": "markdown",
   "source": [
    "Hand parameter tuning the hyperparameters based on the performance on the validation set:\n",
    "C: 0.1, 1, 10, 100, 1000\n",
    "gamma: 1, 0.1, 0.01, 0.001, 0.0001\n",
    "kernel: rbf"
   ],
   "metadata": {
    "collapsed": false
   }
  },
  {
   "cell_type": "code",
   "execution_count": 49,
   "outputs": [
    {
     "data": {
      "text/plain": "SVC(C=100, gamma=0.001)"
     },
     "execution_count": 49,
     "metadata": {},
     "output_type": "execute_result"
    }
   ],
   "source": [
    "model_SVM = SVC(C=100, gamma=0.001)\n",
    "model_SVM.fit(X_train,y_train)"
   ],
   "metadata": {
    "collapsed": false,
    "pycharm": {
     "name": "#%%\n"
    }
   }
  },
  {
   "cell_type": "code",
   "execution_count": 50,
   "outputs": [],
   "source": [
    "y_pred = model_SVM.predict(X_test)"
   ],
   "metadata": {
    "collapsed": false,
    "pycharm": {
     "name": "#%%\n"
    }
   }
  },
  {
   "cell_type": "code",
   "execution_count": 51,
   "outputs": [
    {
     "data": {
      "text/plain": "0.850909090909091"
     },
     "execution_count": 51,
     "metadata": {},
     "output_type": "execute_result"
    }
   ],
   "source": [
    "accuracy_score(y_test, y_pred)"
   ],
   "metadata": {
    "collapsed": false,
    "pycharm": {
     "name": "#%%\n"
    }
   }
  },
  {
   "cell_type": "code",
   "execution_count": 52,
   "outputs": [
    {
     "name": "stdout",
     "output_type": "stream",
     "text": [
      "f1:  0.916106447579925 precision:  0.9921237911025145 recall:  0.850909090909091\n"
     ]
    }
   ],
   "source": [
    "f1 = f1_score(y_pred, y_test, average='weighted')\n",
    "precision = precision_score(y_pred, y_test, average='weighted')\n",
    "recall = recall_score(y_pred, y_test,average='weighted')\n",
    "print('f1: ', f1, 'precision: ', precision, 'recall: ', recall )"
   ],
   "metadata": {
    "collapsed": false,
    "pycharm": {
     "name": "#%%\n"
    }
   }
  },
  {
   "cell_type": "markdown",
   "source": [
    "### LGP\n"
   ],
   "metadata": {
    "collapsed": false
   }
  },
  {
   "cell_type": "markdown",
   "source": [
    "This is an evolutionary learning algorithm, Hyperparamter details can be found in this [website](https://smile-mib.readthedocs.io/en/latest/?badge=latest).\n",
    "Hand parameter tuning the hyperparameters based on the performance on the validation set:\n",
    "tournamentSize: 4, 6, 8\n",
    "min_prog_ini_length: 5, 10, 15\n",
    "max_prog_ini_length: 20, 30, 40\n",
    "pCrossover: 0.6, 0.7, 0.8\n",
    "pMacro: 0.6, 0.7, 0.8\n",
    "pMicro: 0.6, 0.7, 0.8\n"
   ],
   "metadata": {
    "collapsed": false
   }
  },
  {
   "cell_type": "code",
   "execution_count": 55,
   "outputs": [],
   "source": [
    "from linear_genetic_programming.lgp_classifier import LGPClassifier"
   ],
   "metadata": {
    "collapsed": false,
    "pycharm": {
     "name": "#%%\n"
    }
   }
  },
  {
   "cell_type": "code",
   "execution_count": 58,
   "outputs": [],
   "source": [
    "lgp = LGPClassifier(numberOfInput = X_train.shape[1], numberOfVariable = 200, populationSize = 100,\n",
    "                        fitnessThreshold = 1.0, max_prog_ini_length = 20, min_prog_ini_length = 5,\n",
    "                        maxGeneration = 5, tournamentSize = 4, showGenerationStat=True,\n",
    "                        isRandomSampling=True, maxProgLength = 500)"
   ],
   "metadata": {
    "collapsed": false,
    "pycharm": {
     "name": "#%%\n"
    }
   }
  },
  {
   "cell_type": "code",
   "execution_count": 59,
   "outputs": [
    {
     "name": "stdout",
     "output_type": "stream",
     "text": [
      "Gen|Best Indv|  CE  |Pop Avg|Ran Sampling|AvgProgLen|AvgEffProgLen\n",
      "--- --------- ------ ------- ------------ ---------- -------------\n",
      "  0|     0.89|    89|   0.73|         929|     18.18|         0.96\n",
      "  1|     0.89|    72|   0.83|         970|     19.57|         1.04\n",
      "  2|     0.90|    73|   0.85|        1146|     21.28|         1.05\n",
      "  3|     0.90|    73|   0.87|        1181|     24.59|         1.12\n",
      "  4|     0.90|    73|   0.84|        1078|     24.13|         1.10\n"
     ]
    },
    {
     "data": {
      "text/plain": "LGPClassifier(maxGeneration=5, maxProgLength=500, max_prog_ini_length=20,\n              min_prog_ini_length=5, numberOfInput=6, numberOfVariable=200,\n              populationSize=100, tournamentSize=4)"
     },
     "execution_count": 59,
     "metadata": {},
     "output_type": "execute_result"
    }
   ],
   "source": [
    "lgp.fit(X_train, y_train)"
   ],
   "metadata": {
    "collapsed": false,
    "pycharm": {
     "name": "#%%\n"
    }
   }
  },
  {
   "cell_type": "code",
   "execution_count": 60,
   "outputs": [],
   "source": [
    "y_pred = model_rf.predict(X_val)"
   ],
   "metadata": {
    "collapsed": false,
    "pycharm": {
     "name": "#%%\n"
    }
   }
  },
  {
   "cell_type": "code",
   "execution_count": 62,
   "outputs": [
    {
     "data": {
      "text/plain": "0.8586956521739131"
     },
     "execution_count": 62,
     "metadata": {},
     "output_type": "execute_result"
    }
   ],
   "source": [
    "accuracy_score(y_val, y_pred)"
   ],
   "metadata": {
    "collapsed": false,
    "pycharm": {
     "name": "#%%\n"
    }
   }
  },
  {
   "cell_type": "code",
   "execution_count": 63,
   "outputs": [],
   "source": [
    "y_pred = model_rf.predict(X_test)"
   ],
   "metadata": {
    "collapsed": false,
    "pycharm": {
     "name": "#%%\n"
    }
   }
  },
  {
   "cell_type": "code",
   "execution_count": 64,
   "outputs": [
    {
     "data": {
      "text/plain": "0.8436363636363636"
     },
     "execution_count": 64,
     "metadata": {},
     "output_type": "execute_result"
    }
   ],
   "source": [
    "accuracy_score(y_test, y_pred)"
   ],
   "metadata": {
    "collapsed": false,
    "pycharm": {
     "name": "#%%\n"
    }
   }
  },
  {
   "cell_type": "code",
   "execution_count": 65,
   "outputs": [
    {
     "name": "stdout",
     "output_type": "stream",
     "text": [
      "f1:  0.9052035144342835 precision:  0.9764642166344294 recall:  0.8436363636363636\n"
     ]
    }
   ],
   "source": [
    "f1 = f1_score(y_pred, y_test, average='weighted')\n",
    "precision = precision_score(y_pred, y_test, average='weighted')\n",
    "recall = recall_score(y_pred, y_test,average='weighted')\n",
    "print('f1: ', f1, 'precision: ', precision, 'recall: ', recall )"
   ],
   "metadata": {
    "collapsed": false,
    "pycharm": {
     "name": "#%%\n"
    }
   }
  },
  {
   "cell_type": "code",
   "execution_count": null,
   "outputs": [],
   "source": [],
   "metadata": {
    "collapsed": false,
    "pycharm": {
     "name": "#%%\n"
    }
   }
  }
 ],
 "metadata": {
  "kernelspec": {
   "display_name": "Python 3",
   "language": "python",
   "name": "python3"
  },
  "language_info": {
   "codemirror_mode": {
    "name": "ipython",
    "version": 2
   },
   "file_extension": ".py",
   "mimetype": "text/x-python",
   "name": "python",
   "nbconvert_exporter": "python",
   "pygments_lexer": "ipython2",
   "version": "2.7.6"
  }
 },
 "nbformat": 4,
 "nbformat_minor": 0
}