{
 "cells": [
  {
   "cell_type": "code",
   "execution_count": 8,
   "metadata": {
    "collapsed": true,
    "pycharm": {
     "name": "#%%\n"
    }
   },
   "outputs": [],
   "source": [
    "%matplotlib inline\n",
    "\n",
    "import torch.optim as optim\n",
    "\n",
    "from torch_geometric.data import DataLoader\n",
    "import torch"
   ]
  },
  {
   "cell_type": "code",
   "execution_count": 9,
   "outputs": [],
   "source": [
    "from torch_geometric.datasets import Planetoid\n",
    "from torch_geometric.transforms import NormalizeFeatures\n",
    "\n",
    "dataset = Planetoid(root='data/Planetoid', name='Cora', transform=NormalizeFeatures())"
   ],
   "metadata": {
    "collapsed": false,
    "pycharm": {
     "name": "#%%\n"
    }
   }
  },
  {
   "cell_type": "code",
   "execution_count": 10,
   "outputs": [
    {
     "name": "stdout",
     "output_type": "stream",
     "text": [
      "GAT(\n",
      "  (conv1): GATConv(1433, 8, heads=8)\n",
      "  (conv2): GATConv(64, 7, heads=1)\n",
      ")\n"
     ]
    }
   ],
   "source": [
    "from GAT import GAT\n",
    "model = GAT(dataset)\n",
    "print(model)"
   ],
   "metadata": {
    "collapsed": false,
    "pycharm": {
     "name": "#%%\n"
    }
   }
  },
  {
   "cell_type": "code",
   "execution_count": 11,
   "outputs": [
    {
     "name": "stdout",
     "output_type": "stream",
     "text": [
      "Epoch 0. Loss: 1.9449. Test accuracy: 0.1700\n",
      "Epoch 10. Loss: 1.7743. Test accuracy: 0.7470\n",
      "Epoch 20. Loss: 1.5636. Test accuracy: 0.7770\n",
      "Epoch 30. Loss: 1.3030. Test accuracy: 0.8080\n",
      "Epoch 40. Loss: 1.0818. Test accuracy: 0.8050\n",
      "Epoch 50. Loss: 0.8800. Test accuracy: 0.8120\n",
      "Epoch 60. Loss: 0.9632. Test accuracy: 0.8390\n",
      "Epoch 70. Loss: 0.7423. Test accuracy: 0.8130\n",
      "Epoch 80. Loss: 0.7738. Test accuracy: 0.8370\n",
      "Epoch 90. Loss: 0.7583. Test accuracy: 0.8260\n",
      "Epoch 100. Loss: 0.6778. Test accuracy: 0.8310\n",
      "Epoch 110. Loss: 0.6190. Test accuracy: 0.8090\n",
      "Epoch 120. Loss: 0.6063. Test accuracy: 0.8360\n",
      "Epoch 130. Loss: 0.6812. Test accuracy: 0.8020\n",
      "Epoch 140. Loss: 0.6551. Test accuracy: 0.8380\n",
      "Epoch 150. Loss: 0.5872. Test accuracy: 0.8190\n",
      "Epoch 160. Loss: 0.5565. Test accuracy: 0.8280\n",
      "Epoch 170. Loss: 0.6353. Test accuracy: 0.8210\n",
      "Epoch 180. Loss: 0.6758. Test accuracy: 0.8180\n",
      "Epoch 190. Loss: 0.6158. Test accuracy: 0.8310\n",
      "Epoch 200. Loss: 0.5733. Test accuracy: 0.8210\n"
     ]
    }
   ],
   "source": [
    "def model_test(loader, model, is_validation=False, is_training=False):\n",
    "    ''' Testing Code of the Model '''\n",
    "    model.eval()\n",
    "\n",
    "    correct = 0\n",
    "    for data in loader:\n",
    "        with torch.no_grad():\n",
    "            emb, pred = model(data.x, data.edge_index)\n",
    "            pred = pred.argmax(dim=1)\n",
    "            label = data.y\n",
    "\n",
    "        if is_training:\n",
    "            mask = data.val_mask if is_validation else data.train_mask\n",
    "        else: # testing\n",
    "            mask = data.val_mask if is_validation else data.test_mask\n",
    "        # node classification: only evaluate on nodes in test set\n",
    "        pred = pred[mask]\n",
    "        label = data.y[mask]\n",
    "\n",
    "        correct += pred.eq(label).sum().item()\n",
    "    total = 0\n",
    "    for data in loader.dataset:\n",
    "        if is_training:\n",
    "            total += torch.sum(data.train_mask).item()\n",
    "        else:\n",
    "            total += torch.sum(data.test_mask).item()\n",
    "    return correct / total\n",
    "\n",
    "def model_train(dataset, writer, model, epoch_num, lr, weight_decay):\n",
    "    ''' Training code of the model '''\n",
    "    test_loader = loader = DataLoader(dataset, shuffle=False)\n",
    "\n",
    "    # Optimizer\n",
    "    # opt = optim.SGD(model.parameters(), lr=lr, weight_decay=weight_decay, momentum=0.9)\n",
    "    opt = optim.Adam(model.parameters(), lr=lr, weight_decay=weight_decay)\n",
    "\n",
    "    # visualize the model architecture in tensorboard\n",
    "    # writer.add_graph(model, ( data.x, data.edge_index ))\n",
    "\n",
    "    # Training:\n",
    "    for epoch in range(epoch_num + 1):\n",
    "        total_loss = 0\n",
    "        model.train()\n",
    "        for batch in loader:\n",
    "            #print(batch.train_mask, '----')\n",
    "            opt.zero_grad()\n",
    "            embedding, pred = model(batch.x, batch.edge_index)\n",
    "            label = batch.y\n",
    "            pred = pred[batch.train_mask]\n",
    "            label = label[batch.train_mask]\n",
    "            loss = model.loss(pred, label)\n",
    "            loss.backward()\n",
    "            opt.step()\n",
    "            total_loss += loss.item() * batch.num_graphs\n",
    "        total_loss /= len(loader.dataset)\n",
    "        writer.add_scalar(\"loss\", total_loss, epoch)\n",
    "\n",
    "        if epoch % 10 == 0:\n",
    "            test_acc = model_test(test_loader, model, is_training=False)\n",
    "            print(\"Epoch {}. Loss: {:.4f}. Test accuracy: {:.4f}\".format(\n",
    "                epoch, total_loss, test_acc))\n",
    "            writer.add_scalar(\"test accuracy\", test_acc, epoch)\n",
    "\n",
    "        if epoch % 20 == 0:\n",
    "            name = 'epoch' + str(epoch)\n",
    "            writer.add_embedding(embedding, global_step=epoch, tag=name, metadata=batch.y)\n",
    "\n",
    "    return model\n",
    "\n",
    "from datetime import datetime\n",
    "from tensorboardX import SummaryWriter\n",
    "\n",
    "writer = SummaryWriter(\"./log/\" + datetime.now().strftime(\"%Y%m%d-%H%M%S\"))\n",
    "\n",
    "model = model_train(dataset, writer, model, epoch_num=200, lr=0.01, weight_decay=4e-4)"
   ],
   "metadata": {
    "collapsed": false,
    "pycharm": {
     "name": "#%%\n"
    }
   }
  },
  {
   "cell_type": "code",
   "execution_count": 11,
   "outputs": [],
   "source": [],
   "metadata": {
    "collapsed": false,
    "pycharm": {
     "name": "#%%\n"
    }
   }
  }
 ],
 "metadata": {
  "kernelspec": {
   "display_name": "Python 3",
   "language": "python",
   "name": "python3"
  },
  "language_info": {
   "codemirror_mode": {
    "name": "ipython",
    "version": 2
   },
   "file_extension": ".py",
   "mimetype": "text/x-python",
   "name": "python",
   "nbconvert_exporter": "python",
   "pygments_lexer": "ipython2",
   "version": "2.7.6"
  }
 },
 "nbformat": 4,
 "nbformat_minor": 0
}