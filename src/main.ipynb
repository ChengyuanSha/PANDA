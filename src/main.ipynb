{
 "cells": [
  {
   "cell_type": "code",
   "execution_count": 1,
   "metadata": {
    "collapsed": true
   },
   "outputs": [],
   "source": [
    "import torch.optim as optim\n",
    "from torch_geometric.datasets import Planetoid\n",
    "import matplotlib.pyplot as plt\n",
    "from sklearn.manifold import TSNE\n",
    "import numpy as np\n",
    "import torch\n",
    "import torch.nn.functional as F\n",
    "from torch_geometric.nn import GCNConv\n",
    "from torch_geometric.transforms import NormalizeFeatures\n",
    "from torch_geometric.data import DataLoader\n",
    "import random\n",
    "\n",
    "torch.set_printoptions(edgeitems=500)\n",
    "\n",
    "# seed for reproducibility\n",
    "seed = 0\n",
    "torch.manual_seed(seed)\n",
    "np.random.seed(seed)\n",
    "random.seed(seed)\n",
    "\n",
    "import warnings\n",
    "warnings.filterwarnings('ignore')"
   ]
  },
  {
   "cell_type": "markdown",
   "source": [
    "### Dataset info:\n",
    "class 0: without autism associations\n",
    "class 1: autism genes"
   ],
   "metadata": {
    "collapsed": false,
    "pycharm": {
     "name": "#%% md\n"
    }
   }
  },
  {
   "cell_type": "code",
   "execution_count": 2,
   "outputs": [],
   "source": [
    "import read_data\n",
    "\n",
    "data = read_data.read()"
   ],
   "metadata": {
    "collapsed": false,
    "pycharm": {
     "name": "#%%\n"
    }
   }
  },
  {
   "cell_type": "code",
   "execution_count": 3,
   "outputs": [
    {
     "data": {
      "text/plain": "Data(edge_index=[2, 811236], num_classes=23, test_mask=[23472], train_mask=[23472], val_mask=[23472], x=[23472, 23472], y=[23472])"
     },
     "execution_count": 3,
     "metadata": {},
     "output_type": "execute_result"
    }
   ],
   "source": [
    "data"
   ],
   "metadata": {
    "collapsed": false,
    "pycharm": {
     "name": "#%%\n"
    }
   }
  },
  {
   "cell_type": "code",
   "execution_count": 4,
   "outputs": [
    {
     "name": "stdout",
     "output_type": "stream",
     "text": [
      "Contains isolated nodes: False\n",
      "Contains self-loops: False\n",
      "Is undirected: True\n",
      "Average node degree: 34.56\n"
     ]
    }
   ],
   "source": [
    "print(f'Contains isolated nodes: {data.contains_isolated_nodes()}')\n",
    "print(f'Contains self-loops: {data.contains_self_loops()}')\n",
    "print(f'Is undirected: {data.is_undirected()}')\n",
    "print(f'Average node degree: {data.num_edges / data.num_nodes:.2f}')\n",
    "# dataset = data\n",
    "# data.train_mask = data.y >= 0"
   ],
   "metadata": {
    "collapsed": false,
    "pycharm": {
     "name": "#%%\n"
    }
   }
  },
  {
   "cell_type": "code",
   "execution_count": 4,
   "outputs": [],
   "source": [],
   "metadata": {
    "collapsed": false,
    "pycharm": {
     "name": "#%%\n"
    }
   }
  },
  {
   "cell_type": "code",
   "execution_count": 5,
   "outputs": [
    {
     "data": {
      "text/plain": "torch.Size([23472])"
     },
     "execution_count": 5,
     "metadata": {},
     "output_type": "execute_result"
    }
   ],
   "source": [
    "# total nodes\n",
    "data.train_mask.shape"
   ],
   "metadata": {
    "collapsed": false,
    "pycharm": {
     "name": "#%%\n"
    }
   }
  },
  {
   "cell_type": "code",
   "execution_count": 6,
   "outputs": [
    {
     "data": {
      "text/plain": "tensor(1284)"
     },
     "execution_count": 6,
     "metadata": {},
     "output_type": "execute_result"
    }
   ],
   "source": [
    "# number of training samples\n",
    "data.train_mask.sum()"
   ],
   "metadata": {
    "collapsed": false,
    "pycharm": {
     "name": "#%%\n"
    }
   }
  },
  {
   "cell_type": "code",
   "execution_count": 7,
   "outputs": [
    {
     "data": {
      "text/plain": "tensor(276)"
     },
     "execution_count": 7,
     "metadata": {},
     "output_type": "execute_result"
    }
   ],
   "source": [
    "# number of testing samples\n",
    "data.test_mask.sum()\n",
    "# data.test_mask = data.y >= 0"
   ],
   "metadata": {
    "collapsed": false,
    "pycharm": {
     "name": "#%%\n"
    }
   }
  },
  {
   "cell_type": "code",
   "execution_count": 8,
   "outputs": [
    {
     "data": {
      "text/plain": "tensor(275)"
     },
     "execution_count": 8,
     "metadata": {},
     "output_type": "execute_result"
    }
   ],
   "source": [
    "# number of validation samples\n",
    "data.val_mask.sum()"
   ],
   "metadata": {
    "collapsed": false,
    "pycharm": {
     "name": "#%%\n"
    }
   }
  },
  {
   "cell_type": "code",
   "execution_count": 9,
   "outputs": [
    {
     "data": {
      "text/plain": "torch.Size([1284])"
     },
     "execution_count": 9,
     "metadata": {},
     "output_type": "execute_result"
    }
   ],
   "source": [
    "data.y[data.train_mask].shape"
   ],
   "metadata": {
    "collapsed": false,
    "pycharm": {
     "name": "#%%\n"
    }
   }
  },
  {
   "cell_type": "code",
   "execution_count": 10,
   "outputs": [
    {
     "data": {
      "text/plain": "torch.Size([276])"
     },
     "execution_count": 10,
     "metadata": {},
     "output_type": "execute_result"
    }
   ],
   "source": [
    "data.y[data.test_mask].shape"
   ],
   "metadata": {
    "collapsed": false,
    "pycharm": {
     "name": "#%%\n"
    }
   }
  },
  {
   "cell_type": "markdown",
   "source": [
    "### Visualization of the Model Using Tensorboard Command\n",
    "commandline run tensorboard\n",
    "```\n",
    "cd src\n",
    "tensorboard --logdir log\n",
    "```"
   ],
   "metadata": {
    "collapsed": false
   }
  },
  {
   "cell_type": "code",
   "execution_count": 11,
   "outputs": [
    {
     "name": "stdout",
     "output_type": "stream",
     "text": [
      "GCNStack(\n",
      "  (convs): ModuleList(\n",
      "    (0): GCNConv(23472, 128)\n",
      "    (1): GCNConv(128, 64)\n",
      "    (2): GCNConv(64, 32)\n",
      "  )\n",
      "  (lns): ModuleList(\n",
      "    (0): LayerNorm((128,), eps=1e-05, elementwise_affine=True)\n",
      "    (1): LayerNorm((64,), eps=1e-05, elementwise_affine=True)\n",
      "  )\n",
      "  (post_mp): Sequential(\n",
      "    (0): Linear(in_features=32, out_features=32, bias=True)\n",
      "    (1): Linear(in_features=32, out_features=23, bias=True)\n",
      "  )\n",
      ")\n"
     ]
    }
   ],
   "source": [
    "# build model\n",
    "from GCN import GCNStack\n",
    "\n",
    "model = GCNStack(data.num_node_features, hidden_dim1=128, hidden_dim2=64, hidden_dim3=32, output_dim=data.num_classes, dropout=0.5)\n",
    "print(model)\n"
   ],
   "metadata": {
    "collapsed": false,
    "pycharm": {
     "name": "#%%\n"
    }
   }
  },
  {
   "cell_type": "code",
   "execution_count": 11,
   "outputs": [],
   "source": [],
   "metadata": {
    "collapsed": false,
    "pycharm": {
     "name": "#%%\n"
    }
   }
  },
  {
   "cell_type": "code",
   "execution_count": 12,
   "outputs": [],
   "source": [
    "# Running on GPU or CPU\n",
    "use_GPU = True\n",
    "device = torch.device('cuda' if torch.cuda.is_available() and use_GPU else 'cpu')\n",
    "model, data = model.to(device), data.to(device)"
   ],
   "metadata": {
    "collapsed": false,
    "pycharm": {
     "name": "#%%\n"
    }
   }
  },
  {
   "cell_type": "code",
   "execution_count": 13,
   "outputs": [
    {
     "data": {
      "text/plain": "device(type='cuda')"
     },
     "execution_count": 13,
     "metadata": {},
     "output_type": "execute_result"
    }
   ],
   "source": [
    "device\n"
   ],
   "metadata": {
    "collapsed": false,
    "pycharm": {
     "name": "#%%\n"
    }
   }
  },
  {
   "cell_type": "code",
   "execution_count": 14,
   "outputs": [],
   "source": [
    "# torch.cuda.empty_cache()"
   ],
   "metadata": {
    "collapsed": false,
    "pycharm": {
     "name": "#%%\n"
    }
   }
  },
  {
   "cell_type": "code",
   "execution_count": 15,
   "outputs": [
    {
     "name": "stdout",
     "output_type": "stream",
     "text": [
      "Epoch 0. Loss: 3.1149. Train accuracy: 0.1363. Validation accuracy: 0.0909\n",
      "Epoch 1. Loss: 3.0183. Train accuracy: 0.1153. Validation accuracy: 0.1091\n",
      "Epoch 2. Loss: 2.9622. Train accuracy: 0.2780. Validation accuracy: 0.2473\n",
      "Epoch 3. Loss: 2.9178. Train accuracy: 0.5771. Validation accuracy: 0.5527\n",
      "Epoch 4. Loss: 2.8849. Train accuracy: 0.6846. Validation accuracy: 0.6764\n",
      "Epoch 5. Loss: 2.8576. Train accuracy: 0.7266. Validation accuracy: 0.7127\n",
      "Epoch 6. Loss: 2.8444. Train accuracy: 0.7508. Validation accuracy: 0.7345\n",
      "Epoch 7. Loss: 2.8259. Train accuracy: 0.7695. Validation accuracy: 0.7564\n",
      "Epoch 8. Loss: 2.8207. Train accuracy: 0.7835. Validation accuracy: 0.7709\n",
      "Epoch 9. Loss: 2.7975. Train accuracy: 0.7921. Validation accuracy: 0.7709\n",
      "Epoch 10. Loss: 2.7857. Train accuracy: 0.8006. Validation accuracy: 0.7782\n",
      "Epoch 11. Loss: 2.7855. Train accuracy: 0.8061. Validation accuracy: 0.7782\n",
      "Epoch 12. Loss: 2.7715. Train accuracy: 0.8123. Validation accuracy: 0.7855\n",
      "Epoch 13. Loss: 2.7689. Train accuracy: 0.8193. Validation accuracy: 0.7927\n",
      "Epoch 14. Loss: 2.7522. Train accuracy: 0.8232. Validation accuracy: 0.7927\n",
      "Epoch 15. Loss: 2.7522. Train accuracy: 0.8279. Validation accuracy: 0.8036\n",
      "Epoch 16. Loss: 2.7343. Train accuracy: 0.8318. Validation accuracy: 0.8036\n",
      "Epoch 17. Loss: 2.7332. Train accuracy: 0.8333. Validation accuracy: 0.8036\n",
      "Epoch 18. Loss: 2.7106. Train accuracy: 0.8357. Validation accuracy: 0.8073\n",
      "Epoch 19. Loss: 2.7209. Train accuracy: 0.8372. Validation accuracy: 0.8073\n",
      "Epoch 20. Loss: 2.6949. Train accuracy: 0.8388. Validation accuracy: 0.8109\n",
      "Epoch 21. Loss: 2.6975. Train accuracy: 0.8403. Validation accuracy: 0.8145\n",
      "Epoch 22. Loss: 2.6930. Train accuracy: 0.8442. Validation accuracy: 0.8145\n",
      "Epoch 23. Loss: 2.6750. Train accuracy: 0.8481. Validation accuracy: 0.8182\n",
      "Epoch 24. Loss: 2.6761. Train accuracy: 0.8505. Validation accuracy: 0.8182\n",
      "Epoch 25. Loss: 2.6702. Train accuracy: 0.8512. Validation accuracy: 0.8218\n",
      "Epoch 26. Loss: 2.6601. Train accuracy: 0.8536. Validation accuracy: 0.8218\n",
      "Epoch 27. Loss: 2.6593. Train accuracy: 0.8544. Validation accuracy: 0.8255\n",
      "Epoch 28. Loss: 2.6391. Train accuracy: 0.8544. Validation accuracy: 0.8291\n",
      "Epoch 29. Loss: 2.6340. Train accuracy: 0.8551. Validation accuracy: 0.8291\n",
      "Epoch 30. Loss: 2.6226. Train accuracy: 0.8583. Validation accuracy: 0.8327\n",
      "Epoch 31. Loss: 2.6115. Train accuracy: 0.8583. Validation accuracy: 0.8327\n",
      "Epoch 32. Loss: 2.5923. Train accuracy: 0.8614. Validation accuracy: 0.8327\n",
      "Epoch 33. Loss: 2.5877. Train accuracy: 0.8621. Validation accuracy: 0.8327\n",
      "Epoch 34. Loss: 2.5903. Train accuracy: 0.8637. Validation accuracy: 0.8327\n",
      "Epoch 35. Loss: 2.5814. Train accuracy: 0.8645. Validation accuracy: 0.8364\n",
      "Epoch 36. Loss: 2.5818. Train accuracy: 0.8645. Validation accuracy: 0.8364\n",
      "Epoch 37. Loss: 2.5513. Train accuracy: 0.8645. Validation accuracy: 0.8400\n",
      "Epoch 38. Loss: 2.5610. Train accuracy: 0.8653. Validation accuracy: 0.8400\n",
      "Epoch 39. Loss: 2.5558. Train accuracy: 0.8668. Validation accuracy: 0.8436\n",
      "Epoch 40. Loss: 2.5516. Train accuracy: 0.8668. Validation accuracy: 0.8436\n"
     ]
    }
   ],
   "source": [
    "def model_test(loader, model, is_validation=False, is_training=False):\n",
    "    ''' Testing Code of the Model '''\n",
    "    model.eval()\n",
    "\n",
    "    correct = 0\n",
    "    for data in loader:\n",
    "        with torch.no_grad():\n",
    "            emb, pred = model(data.x, data.edge_index)\n",
    "            pred = pred.argmax(dim=1)\n",
    "            # label = data.y\n",
    "\n",
    "        if is_training:\n",
    "            mask = data.train_mask\n",
    "        elif is_validation:\n",
    "            mask = data.val_mask\n",
    "        else: # testing\n",
    "            mask = data.test_mask\n",
    "        # node classification: only evaluate on nodes in test set\n",
    "        pred = pred[mask]\n",
    "        label = data.y[mask]\n",
    "        # testing code\n",
    "        # training_status = 'Training' if is_training else 'Testing'\n",
    "        # print(training_status, '$$pred', pred)\n",
    "        # print(training_status, '%%label', label)\n",
    "        correct += pred.eq(label).sum().item()\n",
    "    total = 0\n",
    "    for data in loader.dataset:\n",
    "        if is_training:\n",
    "            total += torch.sum(data.train_mask).item()\n",
    "        elif is_validation:\n",
    "            total += torch.sum(data.val_mask).item()\n",
    "        else:\n",
    "            total += torch.sum(data.test_mask).item()\n",
    "    return correct / total, pred, label\n",
    "\n",
    "def model_train(dataset, writer, model, epoch_num, lr, weight_decay, momentum):\n",
    "    ''' Training code of the model '''\n",
    "    test_loader = loader = DataLoader(dataset, shuffle=False)\n",
    "\n",
    "    # Optimizer\n",
    "    # opt = optim.SGD(model.parameters(), lr=lr, weight_decay=weight_decay, momentum=momentum)\n",
    "    opt = optim.Adam(model.parameters(), lr=lr, weight_decay=weight_decay)\n",
    "\n",
    "    # visualize the model architecture in tensorboard\n",
    "    # writer.add_graph(model, ( data.x, data.edge_index ))\n",
    "\n",
    "    # Training:\n",
    "    for epoch in range(epoch_num + 1):\n",
    "        total_loss = 0\n",
    "        model.train()\n",
    "        for batch in loader:\n",
    "            #print(batch.train_mask, '----')\n",
    "            opt.zero_grad()\n",
    "            embedding, pred = model(batch.x, batch.edge_index)\n",
    "            label = batch.y\n",
    "            pred = pred[batch.train_mask]\n",
    "            label = label[batch.train_mask]\n",
    "            loss = model.loss(pred, label)\n",
    "            loss.backward()\n",
    "            opt.step()\n",
    "            total_loss += loss.item() * batch.num_graphs\n",
    "        total_loss /= len(loader.dataset)\n",
    "        writer.add_scalar(\"loss\", total_loss, epoch)\n",
    "\n",
    "        # if epoch % 5 == 0:\n",
    "        train_acc, _, _ = model_test(test_loader, model, is_training=True)\n",
    "        validation_acc, _, _ = model_test(test_loader, model, is_training=False, is_validation=True)\n",
    "        print(\"Epoch {}. Loss: {:.4f}. Train accuracy: {:.4f}. Validation accuracy: {:.4f}\".format(\n",
    "            epoch, total_loss, train_acc, validation_acc))\n",
    "        writer.add_scalar(\"test accuracy\", validation_acc, epoch)\n",
    "\n",
    "        if epoch % 20 == 0:\n",
    "            name = 'epoch' + str(epoch)\n",
    "            writer.add_embedding(embedding, global_step=epoch, tag=name, metadata=batch.y)\n",
    "\n",
    "    return model\n",
    "\n",
    "from datetime import datetime\n",
    "from tensorboardX import SummaryWriter\n",
    "\n",
    "writer = SummaryWriter(\"./log/\" + datetime.now().strftime(\"%Y%m%d-%H%M%S\"))\n",
    "\n",
    "model_trained = model_train([data], writer, model, epoch_num=40, lr=0.0001, weight_decay=0.00001, momentum=0.9)"
   ],
   "metadata": {
    "collapsed": false,
    "pycharm": {
     "name": "#%%\n"
    }
   }
  },
  {
   "cell_type": "markdown",
   "source": [],
   "metadata": {
    "collapsed": false,
    "pycharm": {
     "name": "#%% md\n"
    }
   }
  },
  {
   "cell_type": "code",
   "execution_count": 16,
   "outputs": [],
   "source": [
    "test_acc, pred, label = model_test( DataLoader([data], shuffle=False), model_trained, is_training=False, is_validation=False)"
   ],
   "metadata": {
    "collapsed": false,
    "pycharm": {
     "name": "#%%\n"
    }
   }
  },
  {
   "cell_type": "code",
   "execution_count": 17,
   "outputs": [
    {
     "data": {
      "text/plain": "0.8768115942028986"
     },
     "execution_count": 17,
     "metadata": {},
     "output_type": "execute_result"
    }
   ],
   "source": [
    "test_acc"
   ],
   "metadata": {
    "collapsed": false,
    "pycharm": {
     "name": "#%%\n"
    }
   }
  },
  {
   "cell_type": "code",
   "execution_count": 18,
   "outputs": [],
   "source": [
    "pred_np = pred.cpu().detach().numpy()\n",
    "label_np = label.cpu().detach().numpy()"
   ],
   "metadata": {
    "collapsed": false,
    "pycharm": {
     "name": "#%%\n"
    }
   }
  },
  {
   "cell_type": "code",
   "execution_count": 19,
   "outputs": [],
   "source": [
    "from sklearn.metrics import f1_score,  recall_score, precision_score"
   ],
   "metadata": {
    "collapsed": false,
    "pycharm": {
     "name": "#%%\n"
    }
   }
  },
  {
   "cell_type": "code",
   "execution_count": 20,
   "outputs": [
    {
     "data": {
      "text/plain": "0.9275921884617537"
     },
     "execution_count": 20,
     "metadata": {},
     "output_type": "execute_result"
    }
   ],
   "source": [
    "f1_score(pred_np, label_np, average='weighted')"
   ],
   "metadata": {
    "collapsed": false,
    "pycharm": {
     "name": "#%%\n"
    }
   }
  },
  {
   "cell_type": "code",
   "execution_count": 21,
   "outputs": [
    {
     "data": {
      "text/plain": "0.984616298408173"
     },
     "execution_count": 21,
     "metadata": {},
     "output_type": "execute_result"
    }
   ],
   "source": [
    "precision_score(pred_np, label_np, average='weighted')"
   ],
   "metadata": {
    "collapsed": false,
    "pycharm": {
     "name": "#%%\n"
    }
   }
  },
  {
   "cell_type": "code",
   "execution_count": 22,
   "outputs": [
    {
     "data": {
      "text/plain": "0.8768115942028986"
     },
     "execution_count": 22,
     "metadata": {},
     "output_type": "execute_result"
    }
   ],
   "source": [
    "recall_score(pred_np, label_np, average='weighted')"
   ],
   "metadata": {
    "collapsed": false,
    "pycharm": {
     "name": "#%%\n"
    }
   }
  },
  {
   "cell_type": "code",
   "execution_count": 22,
   "outputs": [],
   "source": [],
   "metadata": {
    "collapsed": false,
    "pycharm": {
     "name": "#%%\n"
    }
   }
  },
  {
   "cell_type": "code",
   "execution_count": 22,
   "outputs": [],
   "source": [],
   "metadata": {
    "collapsed": false,
    "pycharm": {
     "name": "#%%\n"
    }
   }
  },
  {
   "cell_type": "code",
   "execution_count": 22,
   "outputs": [],
   "source": [],
   "metadata": {
    "collapsed": false,
    "pycharm": {
     "name": "#%%\n"
    }
   }
  }
 ],
 "metadata": {
  "kernelspec": {
   "display_name": "Python 3",
   "language": "python",
   "name": "python3"
  },
  "language_info": {
   "codemirror_mode": {
    "name": "ipython",
    "version": 2
   },
   "file_extension": ".py",
   "mimetype": "text/x-python",
   "name": "python",
   "nbconvert_exporter": "python",
   "pygments_lexer": "ipython2",
   "version": "2.7.6"
  }
 },
 "nbformat": 4,
 "nbformat_minor": 0
}