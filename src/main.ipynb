{
 "cells": [
  {
   "cell_type": "code",
   "execution_count": 1,
   "metadata": {
    "collapsed": true
   },
   "outputs": [],
   "source": [
    "import torch.optim as optim\n",
    "from torch_geometric.datasets import Planetoid\n",
    "import matplotlib.pyplot as plt\n",
    "from sklearn.manifold import TSNE\n",
    "import numpy as np\n",
    "import torch\n",
    "import torch.nn.functional as F\n",
    "from torch_geometric.nn import GCNConv\n",
    "from torch_geometric.transforms import NormalizeFeatures\n",
    "from torch_geometric.data import DataLoader\n",
    "\n",
    "torch.set_printoptions(edgeitems=500)\n",
    "\n",
    "# seed for reproducibility\n",
    "torch.manual_seed(0)\n",
    "np.random.seed(0)"
   ]
  },
  {
   "cell_type": "markdown",
   "source": [
    "### Data class info:\n",
    "class 0: without autism associations\n",
    "class 1: autism genes\n",
    "class 2: 0.75 confidence\n",
    "class 3: 0.5 confidence\n",
    "class 4: unlabeled nodes"
   ],
   "metadata": {
    "collapsed": false,
    "pycharm": {
     "name": "#%% md\n"
    }
   }
  },
  {
   "cell_type": "code",
   "execution_count": 2,
   "outputs": [
    {
     "name": "stderr",
     "output_type": "stream",
     "text": [
      "C:\\Users\\10455\\OneDrive - Queen's University\\Queens\\CISC867\\PANDA\\src\\read_data.py:82: SettingWithCopyWarning: \n",
      "A value is trying to be set on a copy of a slice from a DataFrame\n",
      "\n",
      "See the caveats in the documentation: https://pandas.pydata.org/pandas-docs/stable/user_guide/indexing.html#returning-a-view-versus-a-copy\n",
      "  autism_df['label'][autism_df['confidence'] == 0.75] = 2\n",
      "C:\\Users\\10455\\OneDrive - Queen's University\\Queens\\CISC867\\PANDA\\src\\read_data.py:83: SettingWithCopyWarning: \n",
      "A value is trying to be set on a copy of a slice from a DataFrame\n",
      "\n",
      "See the caveats in the documentation: https://pandas.pydata.org/pandas-docs/stable/user_guide/indexing.html#returning-a-view-versus-a-copy\n",
      "  autism_df['label'][autism_df['confidence'] == 0.5] = 3\n"
     ]
    }
   ],
   "source": [
    "import read_data\n",
    "\n",
    "data = read_data.read()"
   ],
   "metadata": {
    "collapsed": false,
    "pycharm": {
     "name": "#%%\n"
    }
   }
  },
  {
   "cell_type": "code",
   "execution_count": 3,
   "outputs": [
    {
     "data": {
      "text/plain": "Data(edge_index=[2, 811236], num_classes=25, test_mask=[23472], train_mask=[23472], x=[23472, 23472], y=[23472])"
     },
     "execution_count": 3,
     "metadata": {},
     "output_type": "execute_result"
    }
   ],
   "source": [
    "data"
   ],
   "metadata": {
    "collapsed": false,
    "pycharm": {
     "name": "#%%\n"
    }
   }
  },
  {
   "cell_type": "code",
   "execution_count": 4,
   "outputs": [
    {
     "name": "stdout",
     "output_type": "stream",
     "text": [
      "Contains isolated nodes: False\n",
      "Contains self-loops: False\n",
      "Is undirected: True\n",
      "Average node degree: 34.56\n"
     ]
    }
   ],
   "source": [
    "print(f'Contains isolated nodes: {data.contains_isolated_nodes()}')\n",
    "print(f'Contains self-loops: {data.contains_self_loops()}')\n",
    "print(f'Is undirected: {data.is_undirected()}')\n",
    "print(f'Average node degree: {data.num_edges / data.num_nodes:.2f}')\n",
    "# dataset = data\n",
    "# data.train_mask = data.y >= 0"
   ],
   "metadata": {
    "collapsed": false,
    "pycharm": {
     "name": "#%%\n"
    }
   }
  },
  {
   "cell_type": "code",
   "execution_count": 4,
   "outputs": [],
   "source": [],
   "metadata": {
    "collapsed": false,
    "pycharm": {
     "name": "#%%\n"
    }
   }
  },
  {
   "cell_type": "code",
   "execution_count": 5,
   "outputs": [
    {
     "data": {
      "text/plain": "torch.Size([23472])"
     },
     "execution_count": 5,
     "metadata": {},
     "output_type": "execute_result"
    }
   ],
   "source": [
    "data.train_mask.shape"
   ],
   "metadata": {
    "collapsed": false,
    "pycharm": {
     "name": "#%%\n"
    }
   }
  },
  {
   "cell_type": "code",
   "execution_count": 6,
   "outputs": [
    {
     "data": {
      "text/plain": "tensor(240)"
     },
     "execution_count": 6,
     "metadata": {},
     "output_type": "execute_result"
    }
   ],
   "source": [
    "data.train_mask.sum()"
   ],
   "metadata": {
    "collapsed": false,
    "pycharm": {
     "name": "#%%\n"
    }
   }
  },
  {
   "cell_type": "code",
   "execution_count": 7,
   "outputs": [
    {
     "data": {
      "text/plain": "tensor(1595)"
     },
     "execution_count": 7,
     "metadata": {},
     "output_type": "execute_result"
    }
   ],
   "source": [
    "data.test_mask.sum()\n",
    "# data.test_mask = data.y >= 0"
   ],
   "metadata": {
    "collapsed": false,
    "pycharm": {
     "name": "#%%\n"
    }
   }
  },
  {
   "cell_type": "code",
   "execution_count": 8,
   "outputs": [
    {
     "data": {
      "text/plain": "torch.Size([240])"
     },
     "execution_count": 8,
     "metadata": {},
     "output_type": "execute_result"
    }
   ],
   "source": [
    "data.y[data.train_mask].shape\n"
   ],
   "metadata": {
    "collapsed": false,
    "pycharm": {
     "name": "#%%\n"
    }
   }
  },
  {
   "cell_type": "code",
   "execution_count": 9,
   "outputs": [
    {
     "data": {
      "text/plain": "torch.Size([1595])"
     },
     "execution_count": 9,
     "metadata": {},
     "output_type": "execute_result"
    }
   ],
   "source": [
    "data.y[data.test_mask].shape"
   ],
   "metadata": {
    "collapsed": false,
    "pycharm": {
     "name": "#%%\n"
    }
   }
  },
  {
   "cell_type": "code",
   "execution_count": 10,
   "outputs": [],
   "source": [
    "# from torch_geometric.data import DataLoader\n",
    "#\n",
    "# loader = DataLoader(data, batch_size=32, shuffle=True)\n"
   ],
   "metadata": {
    "collapsed": false,
    "pycharm": {
     "name": "#%%\n"
    }
   }
  },
  {
   "cell_type": "code",
   "execution_count": 11,
   "outputs": [],
   "source": [
    "# data_list = [data]\n",
    "#"
   ],
   "metadata": {
    "collapsed": false,
    "pycharm": {
     "name": "#%%\n"
    }
   }
  },
  {
   "cell_type": "code",
   "execution_count": 12,
   "outputs": [],
   "source": [
    "# dataset = DataLoader(data_list)\n",
    "#"
   ],
   "metadata": {
    "collapsed": false,
    "pycharm": {
     "name": "#%%\n"
    }
   }
  },
  {
   "cell_type": "code",
   "execution_count": 13,
   "outputs": [],
   "source": [
    "# dataset.num_node_features = data.num_node_features\n",
    "# dataset.num_classes = data.num_classes\n"
   ],
   "metadata": {
    "collapsed": false,
    "pycharm": {
     "name": "#%%\n"
    }
   }
  },
  {
   "cell_type": "markdown",
   "source": [
    "### Visualization Model Using Tensorboard Command\n",
    "commandline run tensorboard\n",
    "```\n",
    "cd src\n",
    "tensorboard --logdir log\n",
    "```"
   ],
   "metadata": {
    "collapsed": false
   }
  },
  {
   "cell_type": "code",
   "execution_count": 14,
   "outputs": [
    {
     "name": "stdout",
     "output_type": "stream",
     "text": [
      "GCNStack(\n",
      "  (convs): ModuleList(\n",
      "    (0): GCNConv(23472, 128)\n",
      "    (1): GCNConv(128, 64)\n",
      "    (2): GCNConv(64, 64)\n",
      "  )\n",
      "  (lns): ModuleList(\n",
      "    (0): LayerNorm((128,), eps=1e-05, elementwise_affine=True)\n",
      "    (1): LayerNorm((64,), eps=1e-05, elementwise_affine=True)\n",
      "  )\n",
      "  (post_mp): Sequential(\n",
      "    (0): Linear(in_features=64, out_features=64, bias=True)\n",
      "    (1): Linear(in_features=64, out_features=25, bias=True)\n",
      "  )\n",
      ")\n"
     ]
    }
   ],
   "source": [
    "# build model\n",
    "from GCN import GCNStack\n",
    "\n",
    "model = GCNStack(data.num_node_features, hidden_dim1=128, hidden_dim2=64, output_dim=data.num_classes)\n",
    "print(model)\n"
   ],
   "metadata": {
    "collapsed": false,
    "pycharm": {
     "name": "#%%\n"
    }
   }
  },
  {
   "cell_type": "code",
   "execution_count": 15,
   "outputs": [],
   "source": [
    "# Running on GPU or CPU\n",
    "use_GPU = True\n",
    "device = torch.device('cuda' if torch.cuda.is_available() and use_GPU else 'cpu')\n",
    "model, data = model.to(device), data.to(device)"
   ],
   "metadata": {
    "collapsed": false,
    "pycharm": {
     "name": "#%%\n"
    }
   }
  },
  {
   "cell_type": "code",
   "execution_count": 16,
   "outputs": [
    {
     "data": {
      "text/plain": "device(type='cuda')"
     },
     "execution_count": 16,
     "metadata": {},
     "output_type": "execute_result"
    }
   ],
   "source": [
    "device\n"
   ],
   "metadata": {
    "collapsed": false,
    "pycharm": {
     "name": "#%%\n"
    }
   }
  },
  {
   "cell_type": "code",
   "execution_count": 17,
   "outputs": [],
   "source": [
    "# torch.cuda.empty_cache()"
   ],
   "metadata": {
    "collapsed": false,
    "pycharm": {
     "name": "#%%\n"
    }
   }
  },
  {
   "cell_type": "code",
   "execution_count": 18,
   "outputs": [
    {
     "name": "stdout",
     "output_type": "stream",
     "text": [
      "Epoch 0. Loss: 3.2536. Train accuracy: 0.6125. Test accuracy: 0.5987\n",
      "Epoch 10. Loss: 1.1328. Train accuracy: 0.6125. Test accuracy: 0.5987\n",
      "Epoch 20. Loss: 1.0429. Train accuracy: 0.6125. Test accuracy: 0.5987\n",
      "Epoch 30. Loss: 0.9786. Train accuracy: 0.6292. Test accuracy: 0.5937\n",
      "Epoch 40. Loss: 0.8464. Train accuracy: 0.6792. Test accuracy: 0.6025\n",
      "Epoch 50. Loss: 0.5879. Train accuracy: 0.7458. Test accuracy: 0.4671\n",
      "Epoch 60. Loss: 0.5001. Train accuracy: 0.8792. Test accuracy: 0.5530\n",
      "Epoch 70. Loss: 0.3271. Train accuracy: 0.8833. Test accuracy: 0.5034\n",
      "Epoch 80. Loss: 0.2846. Train accuracy: 0.9042. Test accuracy: 0.4897\n",
      "Epoch 90. Loss: 1.5445. Train accuracy: 0.6250. Test accuracy: 0.6000\n",
      "Epoch 100. Loss: 0.9705. Train accuracy: 0.6125. Test accuracy: 0.5987\n",
      "Epoch 110. Loss: 0.6500. Train accuracy: 0.8167. Test accuracy: 0.5906\n",
      "Epoch 120. Loss: 0.4151. Train accuracy: 0.8750. Test accuracy: 0.5473\n",
      "Epoch 130. Loss: 0.2938. Train accuracy: 0.9083. Test accuracy: 0.5342\n",
      "Epoch 140. Loss: 0.3019. Train accuracy: 0.9208. Test accuracy: 0.4903\n",
      "Epoch 150. Loss: 0.2682. Train accuracy: 0.9250. Test accuracy: 0.5329\n",
      "Epoch 160. Loss: 0.2253. Train accuracy: 0.9458. Test accuracy: 0.4878\n",
      "Epoch 170. Loss: 0.1696. Train accuracy: 0.9583. Test accuracy: 0.4771\n",
      "Epoch 180. Loss: 0.1450. Train accuracy: 0.9667. Test accuracy: 0.4972\n",
      "Epoch 190. Loss: 0.1274. Train accuracy: 0.9708. Test accuracy: 0.5060\n",
      "Epoch 200. Loss: 0.1086. Train accuracy: 0.9792. Test accuracy: 0.5078\n",
      "Epoch 210. Loss: 0.1035. Train accuracy: 0.9792. Test accuracy: 0.4596\n",
      "Epoch 220. Loss: 0.3088. Train accuracy: 0.6833. Test accuracy: 0.5812\n",
      "Epoch 230. Loss: 0.3583. Train accuracy: 0.9375. Test accuracy: 0.5009\n",
      "Epoch 240. Loss: 0.2017. Train accuracy: 0.9625. Test accuracy: 0.5103\n",
      "Epoch 250. Loss: 0.1347. Train accuracy: 0.9583. Test accuracy: 0.5254\n",
      "Epoch 260. Loss: 0.1031. Train accuracy: 0.9667. Test accuracy: 0.5147\n",
      "Epoch 270. Loss: 0.0871. Train accuracy: 0.9750. Test accuracy: 0.4922\n",
      "Epoch 280. Loss: 0.0891. Train accuracy: 0.9708. Test accuracy: 0.4991\n",
      "Epoch 290. Loss: 0.0790. Train accuracy: 0.9667. Test accuracy: 0.4671\n",
      "Epoch 300. Loss: 0.0711. Train accuracy: 0.9792. Test accuracy: 0.4740\n",
      "Epoch 310. Loss: 0.0592. Train accuracy: 0.9958. Test accuracy: 0.4746\n",
      "Epoch 320. Loss: 0.0844. Train accuracy: 0.9917. Test accuracy: 0.4915\n",
      "Epoch 330. Loss: 0.1971. Train accuracy: 0.9125. Test accuracy: 0.5317\n",
      "Epoch 340. Loss: 0.2373. Train accuracy: 0.7917. Test accuracy: 0.5436\n",
      "Epoch 350. Loss: 0.2038. Train accuracy: 0.9417. Test accuracy: 0.5298\n",
      "Epoch 360. Loss: 0.1690. Train accuracy: 0.9667. Test accuracy: 0.4677\n",
      "Epoch 370. Loss: 0.1297. Train accuracy: 0.9667. Test accuracy: 0.4890\n",
      "Epoch 380. Loss: 0.1187. Train accuracy: 0.9875. Test accuracy: 0.4915\n",
      "Epoch 390. Loss: 0.0786. Train accuracy: 1.0000. Test accuracy: 0.4784\n",
      "Epoch 400. Loss: 0.0551. Train accuracy: 0.9833. Test accuracy: 0.4821\n"
     ]
    }
   ],
   "source": [
    "def model_test(loader, model, is_validation=False, is_training=False):\n",
    "    ''' Testing Code of the Model '''\n",
    "    model.eval()\n",
    "\n",
    "    correct = 0\n",
    "    for data in loader:\n",
    "        with torch.no_grad():\n",
    "            emb, pred = model(data.x, data.edge_index)\n",
    "            pred = pred.argmax(dim=1)\n",
    "            label = data.y\n",
    "\n",
    "        if is_training:\n",
    "            mask = data.val_mask if is_validation else data.train_mask\n",
    "        else: # testing\n",
    "            mask = data.val_mask if is_validation else data.test_mask\n",
    "        # node classification: only evaluate on nodes in test set\n",
    "        pred = pred[mask]\n",
    "        label = data.y[mask]\n",
    "\n",
    "        correct += pred.eq(label).sum().item()\n",
    "    total = 0\n",
    "    for data in loader.dataset:\n",
    "        if is_training:\n",
    "            total += torch.sum(data.train_mask).item()\n",
    "        else:\n",
    "            total += torch.sum(data.test_mask).item()\n",
    "    return correct / total\n",
    "\n",
    "def model_train(dataset, writer, model, epoch_num, lr, weight_decay, momentum):\n",
    "    ''' Training code of the model '''\n",
    "    test_loader = loader = DataLoader(dataset, shuffle=False)\n",
    "\n",
    "    # Optimizer\n",
    "    # opt = optim.SGD(model.parameters(), lr=lr, weight_decay=weight_decay, momentum=momentum)\n",
    "    opt = optim.Adam(model.parameters(), lr=lr, weight_decay=weight_decay)\n",
    "\n",
    "    # visualize the model architecture in tensorboard\n",
    "    # writer.add_graph(model, ( data.x, data.edge_index ))\n",
    "\n",
    "    # Training:\n",
    "    for epoch in range(epoch_num + 1):\n",
    "        total_loss = 0\n",
    "        model.train()\n",
    "        for batch in loader:\n",
    "            #print(batch.train_mask, '----')\n",
    "            opt.zero_grad()\n",
    "            embedding, pred = model(batch.x, batch.edge_index)\n",
    "            label = batch.y\n",
    "            pred = pred[batch.train_mask]\n",
    "            label = label[batch.train_mask]\n",
    "            loss = model.loss(pred, label)\n",
    "            loss.backward()\n",
    "            opt.step()\n",
    "            total_loss += loss.item() * batch.num_graphs\n",
    "        total_loss /= len(loader.dataset)\n",
    "        writer.add_scalar(\"loss\", total_loss, epoch)\n",
    "\n",
    "        if epoch % 10 == 0:\n",
    "            train_acc = model_test(test_loader, model, is_training=True)\n",
    "            test_acc = model_test(test_loader, model, is_training=False)\n",
    "            print(\"Epoch {}. Loss: {:.4f}. Train accuracy: {:.4f}. Test accuracy: {:.4f}\".format(\n",
    "                epoch, total_loss, train_acc, test_acc))\n",
    "            writer.add_scalar(\"test accuracy\", test_acc, epoch)\n",
    "\n",
    "        if epoch % 20 == 0:\n",
    "            name = 'epoch' + str(epoch)\n",
    "            writer.add_embedding(embedding, global_step=epoch, tag=name, metadata=batch.y)\n",
    "\n",
    "    return model\n",
    "\n",
    "from datetime import datetime\n",
    "from tensorboardX import SummaryWriter\n",
    "\n",
    "writer = SummaryWriter(\"./log/\" + datetime.now().strftime(\"%Y%m%d-%H%M%S\"))\n",
    "\n",
    "model = model_train([data], writer, model, epoch_num=400, lr=0.01, weight_decay=0.0001, momentum=0.9)"
   ],
   "metadata": {
    "collapsed": false,
    "pycharm": {
     "name": "#%%\n"
    }
   }
  },
  {
   "cell_type": "markdown",
   "source": [],
   "metadata": {
    "collapsed": false,
    "pycharm": {
     "name": "#%% md\n"
    }
   }
  },
  {
   "cell_type": "code",
   "execution_count": 18,
   "outputs": [],
   "source": [
    "\n"
   ],
   "metadata": {
    "collapsed": false,
    "pycharm": {
     "name": "#%%\n"
    }
   }
  }
 ],
 "metadata": {
  "kernelspec": {
   "display_name": "Python 3",
   "language": "python",
   "name": "python3"
  },
  "language_info": {
   "codemirror_mode": {
    "name": "ipython",
    "version": 2
   },
   "file_extension": ".py",
   "mimetype": "text/x-python",
   "name": "python",
   "nbconvert_exporter": "python",
   "pygments_lexer": "ipython2",
   "version": "2.7.6"
  }
 },
 "nbformat": 4,
 "nbformat_minor": 0
}