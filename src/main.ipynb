{
 "cells": [
  {
   "cell_type": "code",
   "execution_count": 1,
   "metadata": {
    "collapsed": true
   },
   "outputs": [],
   "source": [
    "import torch.optim as optim\n",
    "from torch_geometric.datasets import Planetoid\n",
    "import matplotlib.pyplot as plt\n",
    "from sklearn.manifold import TSNE\n",
    "import numpy as np\n",
    "import torch\n",
    "import torch.nn.functional as F\n",
    "from torch_geometric.nn import GCNConv\n",
    "from torch_geometric.transforms import NormalizeFeatures\n",
    "from torch_geometric.data import DataLoader\n",
    "\n",
    "torch.set_printoptions(edgeitems=500)\n",
    "\n",
    "# seed for reproducibility\n",
    "torch.manual_seed(0)\n",
    "np.random.seed(0)"
   ]
  },
  {
   "cell_type": "markdown",
   "source": [
    "### Data class info:\n",
    "class 0: without autism associations\n",
    "class 1: autism genes\n",
    "class 2: 0.75 confidence\n",
    "class 3: 0.5 confidence\n",
    "class 4: unlabeled nodes"
   ],
   "metadata": {
    "collapsed": false,
    "pycharm": {
     "name": "#%% md\n"
    }
   }
  },
  {
   "cell_type": "code",
   "execution_count": 2,
   "outputs": [
    {
     "name": "stderr",
     "output_type": "stream",
     "text": [
      "C:\\Users\\10455\\OneDrive - Queen's University\\Queens\\CISC867\\PANDA\\src\\read_data.py:78: SettingWithCopyWarning: \n",
      "A value is trying to be set on a copy of a slice from a DataFrame\n",
      "\n",
      "See the caveats in the documentation: https://pandas.pydata.org/pandas-docs/stable/user_guide/indexing.html#returning-a-view-versus-a-copy\n",
      "  autism_df['label'][autism_df['confidence'] == 0.5] = 3\n"
     ]
    }
   ],
   "source": [
    "import read_data\n",
    "\n",
    "data = read_data.read()"
   ],
   "metadata": {
    "collapsed": false,
    "pycharm": {
     "name": "#%%\n"
    }
   }
  },
  {
   "cell_type": "code",
   "execution_count": 3,
   "outputs": [
    {
     "data": {
      "text/plain": "Data(edge_index=[2, 811236], num_classes=5, test_mask=[23472], train_mask=[23472], x=[23472, 23472], y=[23472])"
     },
     "execution_count": 3,
     "metadata": {},
     "output_type": "execute_result"
    }
   ],
   "source": [
    "data"
   ],
   "metadata": {
    "collapsed": false,
    "pycharm": {
     "name": "#%%\n"
    }
   }
  },
  {
   "cell_type": "code",
   "execution_count": 4,
   "outputs": [
    {
     "name": "stdout",
     "output_type": "stream",
     "text": [
      "Contains isolated nodes: False\n",
      "Contains self-loops: False\n",
      "Is undirected: True\n"
     ]
    }
   ],
   "source": [
    "print(f'Contains isolated nodes: {data.contains_isolated_nodes()}')\n",
    "print(f'Contains self-loops: {data.contains_self_loops()}')\n",
    "print(f'Is undirected: {data.is_undirected()}')\n",
    "# dataset = data\n",
    "# data.train_mask = data.y >= 0"
   ],
   "metadata": {
    "collapsed": false,
    "pycharm": {
     "name": "#%%\n"
    }
   }
  },
  {
   "cell_type": "code",
   "execution_count": 5,
   "outputs": [
    {
     "data": {
      "text/plain": "torch.Size([23472])"
     },
     "execution_count": 5,
     "metadata": {},
     "output_type": "execute_result"
    }
   ],
   "source": [
    "data.train_mask.shape"
   ],
   "metadata": {
    "collapsed": false,
    "pycharm": {
     "name": "#%%\n"
    }
   }
  },
  {
   "cell_type": "code",
   "execution_count": 6,
   "outputs": [
    {
     "data": {
      "text/plain": "tensor(1468)"
     },
     "execution_count": 6,
     "metadata": {},
     "output_type": "execute_result"
    }
   ],
   "source": [
    "data.train_mask.sum()"
   ],
   "metadata": {
    "collapsed": false,
    "pycharm": {
     "name": "#%%\n"
    }
   }
  },
  {
   "cell_type": "code",
   "execution_count": 7,
   "outputs": [
    {
     "data": {
      "text/plain": "tensor(367)"
     },
     "execution_count": 7,
     "metadata": {},
     "output_type": "execute_result"
    }
   ],
   "source": [
    "data.test_mask.sum()\n",
    "# data.test_mask = data.y >= 0"
   ],
   "metadata": {
    "collapsed": false,
    "pycharm": {
     "name": "#%%\n"
    }
   }
  },
  {
   "cell_type": "code",
   "execution_count": 8,
   "outputs": [
    {
     "data": {
      "text/plain": "torch.Size([1468])"
     },
     "execution_count": 8,
     "metadata": {},
     "output_type": "execute_result"
    }
   ],
   "source": [
    "data.y[data.train_mask].shape\n"
   ],
   "metadata": {
    "collapsed": false,
    "pycharm": {
     "name": "#%%\n"
    }
   }
  },
  {
   "cell_type": "code",
   "execution_count": 9,
   "outputs": [
    {
     "data": {
      "text/plain": "torch.Size([367])"
     },
     "execution_count": 9,
     "metadata": {},
     "output_type": "execute_result"
    }
   ],
   "source": [
    "data.y[data.test_mask].shape"
   ],
   "metadata": {
    "collapsed": false,
    "pycharm": {
     "name": "#%%\n"
    }
   }
  },
  {
   "cell_type": "code",
   "execution_count": 10,
   "outputs": [],
   "source": [
    "# from torch_geometric.data import DataLoader\n",
    "#\n",
    "# loader = DataLoader(data, batch_size=32, shuffle=True)\n"
   ],
   "metadata": {
    "collapsed": false,
    "pycharm": {
     "name": "#%%\n"
    }
   }
  },
  {
   "cell_type": "code",
   "execution_count": 11,
   "outputs": [],
   "source": [
    "# data_list = [data]\n",
    "#"
   ],
   "metadata": {
    "collapsed": false,
    "pycharm": {
     "name": "#%%\n"
    }
   }
  },
  {
   "cell_type": "code",
   "execution_count": 12,
   "outputs": [],
   "source": [
    "# dataset = DataLoader(data_list)\n",
    "#"
   ],
   "metadata": {
    "collapsed": false,
    "pycharm": {
     "name": "#%%\n"
    }
   }
  },
  {
   "cell_type": "code",
   "execution_count": 13,
   "outputs": [],
   "source": [
    "# dataset.num_node_features = data.num_node_features\n",
    "# dataset.num_classes = data.num_classes\n"
   ],
   "metadata": {
    "collapsed": false,
    "pycharm": {
     "name": "#%%\n"
    }
   }
  },
  {
   "cell_type": "markdown",
   "source": [
    "### Visualization Model Using Tensorboard Command\n",
    "commandline run tensorboard\n",
    "```\n",
    "cd src\n",
    "tensorboard --logdir log\n",
    "```"
   ],
   "metadata": {
    "collapsed": false
   }
  },
  {
   "cell_type": "code",
   "execution_count": 14,
   "outputs": [
    {
     "name": "stdout",
     "output_type": "stream",
     "text": [
      "GCNStack(\n",
      "  (convs): ModuleList(\n",
      "    (0): GCNConv(23472, 128)\n",
      "    (1): GCNConv(128, 64)\n",
      "    (2): GCNConv(64, 64)\n",
      "  )\n",
      "  (lns): ModuleList(\n",
      "    (0): LayerNorm((128,), eps=1e-05, elementwise_affine=True)\n",
      "    (1): LayerNorm((64,), eps=1e-05, elementwise_affine=True)\n",
      "  )\n",
      "  (post_mp): Sequential(\n",
      "    (0): Linear(in_features=64, out_features=64, bias=True)\n",
      "    (1): Linear(in_features=64, out_features=5, bias=True)\n",
      "  )\n",
      ")\n"
     ]
    }
   ],
   "source": [
    "# build model\n",
    "from GCN import GCNStack\n",
    "\n",
    "model = GCNStack(data.num_node_features, hidden_dim1=128, hidden_dim2=64, output_dim=data.num_classes)\n",
    "print(model)\n"
   ],
   "metadata": {
    "collapsed": false,
    "pycharm": {
     "name": "#%%\n"
    }
   }
  },
  {
   "cell_type": "code",
   "execution_count": 15,
   "outputs": [],
   "source": [
    "# Running on GPU or CPU\n",
    "use_GPU = True\n",
    "device = torch.device('cuda' if torch.cuda.is_available() and use_GPU else 'cpu')\n",
    "model, data = model.to(device), data.to(device)"
   ],
   "metadata": {
    "collapsed": false,
    "pycharm": {
     "name": "#%%\n"
    }
   }
  },
  {
   "cell_type": "code",
   "execution_count": 16,
   "outputs": [
    {
     "data": {
      "text/plain": "device(type='cuda')"
     },
     "execution_count": 16,
     "metadata": {},
     "output_type": "execute_result"
    }
   ],
   "source": [
    "device\n"
   ],
   "metadata": {
    "collapsed": false,
    "pycharm": {
     "name": "#%%\n"
    }
   }
  },
  {
   "cell_type": "code",
   "execution_count": 17,
   "outputs": [],
   "source": [
    "# torch.cuda.empty_cache()"
   ],
   "metadata": {
    "collapsed": false,
    "pycharm": {
     "name": "#%%\n"
    }
   }
  },
  {
   "cell_type": "code",
   "execution_count": 18,
   "outputs": [
    {
     "name": "stdout",
     "output_type": "stream",
     "text": [
      "Epoch 0. Loss: 1.5893. Test accuracy: 0.8529\n",
      "Epoch 10. Loss: 0.8344. Test accuracy: 0.8529\n",
      "Epoch 20. Loss: 0.7785. Test accuracy: 0.8529\n",
      "Epoch 30. Loss: 0.7447. Test accuracy: 0.8529\n",
      "Epoch 40. Loss: 0.7108. Test accuracy: 0.8529\n",
      "Epoch 50. Loss: 0.6859. Test accuracy: 0.8529\n",
      "Epoch 60. Loss: 0.6636. Test accuracy: 0.8529\n",
      "Epoch 70. Loss: 0.6451. Test accuracy: 0.8529\n",
      "Epoch 80. Loss: 0.6303. Test accuracy: 0.8529\n",
      "Epoch 90. Loss: 0.6191. Test accuracy: 0.8529\n",
      "Epoch 100. Loss: 0.6111. Test accuracy: 0.8501\n",
      "Epoch 110. Loss: 0.6052. Test accuracy: 0.8501\n",
      "Epoch 120. Loss: 0.6009. Test accuracy: 0.8501\n",
      "Epoch 130. Loss: 0.5976. Test accuracy: 0.8501\n",
      "Epoch 140. Loss: 0.5949. Test accuracy: 0.8501\n",
      "Epoch 150. Loss: 0.5927. Test accuracy: 0.8501\n",
      "Epoch 160. Loss: 0.5908. Test accuracy: 0.8501\n",
      "Epoch 170. Loss: 0.5891. Test accuracy: 0.8501\n",
      "Epoch 180. Loss: 0.5876. Test accuracy: 0.8501\n",
      "Epoch 190. Loss: 0.5863. Test accuracy: 0.8501\n",
      "Epoch 200. Loss: 0.5851. Test accuracy: 0.8501\n",
      "Epoch 210. Loss: 0.5840. Test accuracy: 0.8501\n",
      "Epoch 220. Loss: 0.5830. Test accuracy: 0.8501\n",
      "Epoch 230. Loss: 0.5821. Test accuracy: 0.8501\n",
      "Epoch 240. Loss: 0.5813. Test accuracy: 0.8501\n",
      "Epoch 250. Loss: 0.5806. Test accuracy: 0.8501\n",
      "Epoch 260. Loss: 0.5799. Test accuracy: 0.8501\n",
      "Epoch 270. Loss: 0.5793. Test accuracy: 0.8501\n",
      "Epoch 280. Loss: 0.5788. Test accuracy: 0.8501\n",
      "Epoch 290. Loss: 0.5783. Test accuracy: 0.8501\n",
      "Epoch 300. Loss: 0.5778. Test accuracy: 0.8501\n",
      "Epoch 310. Loss: 0.5773. Test accuracy: 0.8501\n",
      "Epoch 320. Loss: 0.5769. Test accuracy: 0.8501\n",
      "Epoch 330. Loss: 0.5766. Test accuracy: 0.8501\n",
      "Epoch 340. Loss: 0.5762. Test accuracy: 0.8501\n",
      "Epoch 350. Loss: 0.5759. Test accuracy: 0.8501\n",
      "Epoch 360. Loss: 0.5756. Test accuracy: 0.8501\n",
      "Epoch 370. Loss: 0.5753. Test accuracy: 0.8501\n",
      "Epoch 380. Loss: 0.5751. Test accuracy: 0.8501\n",
      "Epoch 390. Loss: 0.5748. Test accuracy: 0.8501\n",
      "Epoch 400. Loss: 0.5746. Test accuracy: 0.8501\n"
     ]
    }
   ],
   "source": [
    "def test(loader, model, is_validation=False):\n",
    "    ''' Testing Code of the Model '''\n",
    "    model.eval()\n",
    "\n",
    "    correct = 0\n",
    "    for data in loader:\n",
    "        with torch.no_grad():\n",
    "            emb, pred = model(data.x, data.edge_index)\n",
    "            pred = pred.argmax(dim=1)\n",
    "            label = data.y\n",
    "\n",
    "        mask = data.val_mask if is_validation else data.test_mask\n",
    "        # node classification: only evaluate on nodes in test set\n",
    "        pred = pred[mask]\n",
    "        label = data.y[mask]\n",
    "\n",
    "        correct += pred.eq(label).sum().item()\n",
    "    total = 0\n",
    "    for data in loader.dataset:\n",
    "        total += torch.sum(data.test_mask).item()\n",
    "    return correct / total\n",
    "\n",
    "def train(dataset, writer, model, epoch_num, lr, weight_decay):\n",
    "    ''' Training code of the model '''\n",
    "    test_loader = loader = DataLoader(dataset, shuffle=False)\n",
    "\n",
    "    # build model\n",
    "    # model = GCNStack(max(data.num_node_features, 1), 32, data.num_classes)\n",
    "\n",
    "    opt = optim.SGD(model.parameters(), lr=lr, weight_decay=weight_decay, momentum=0.9)\n",
    "    #opt = optim.Adam(model.parameters(), lr=lr, weight_decay=weight_decay)\n",
    "\n",
    "    #writer.add_graph(model, ( data.x, data.edge_index ))\n",
    "    # train\n",
    "    for epoch in range(epoch_num + 1):\n",
    "        total_loss = 0\n",
    "        model.train()\n",
    "        for batch in loader:\n",
    "            #print(batch.train_mask, '----')\n",
    "            opt.zero_grad()\n",
    "            embedding, pred = model(batch.x, batch.edge_index)\n",
    "            label = batch.y\n",
    "            pred = pred[batch.train_mask]\n",
    "            label = label[batch.train_mask]\n",
    "            loss = model.loss(pred, label)\n",
    "            loss.backward()\n",
    "            opt.step()\n",
    "            total_loss += loss.item() * batch.num_graphs\n",
    "        total_loss /= len(loader.dataset)\n",
    "        writer.add_scalar(\"loss\", total_loss, epoch)\n",
    "\n",
    "        if epoch % 10 == 0:\n",
    "            test_acc = test(test_loader, model)\n",
    "            print(\"Epoch {}. Loss: {:.4f}. Test accuracy: {:.4f}\".format(\n",
    "                epoch, total_loss, test_acc))\n",
    "            writer.add_scalar(\"test accuracy\", test_acc, epoch)\n",
    "\n",
    "        if epoch % 20 == 0:\n",
    "            name = 'epoch' + str(epoch)\n",
    "            writer.add_embedding(embedding, global_step=epoch, tag=name, metadata=batch.y)\n",
    "\n",
    "    return model\n",
    "\n",
    "from datetime import datetime\n",
    "from tensorboardX import SummaryWriter\n",
    "\n",
    "writer = SummaryWriter(\"./log/\" + datetime.now().strftime(\"%Y%m%d-%H%M%S\"))\n",
    "\n",
    "model = train([data], writer, model, epoch_num=400, lr=1e-2, weight_decay=1e-3)"
   ],
   "metadata": {
    "collapsed": false,
    "pycharm": {
     "name": "#%%\n"
    }
   }
  },
  {
   "cell_type": "markdown",
   "source": [],
   "metadata": {
    "collapsed": false,
    "pycharm": {
     "name": "#%% md\n"
    }
   }
  },
  {
   "cell_type": "code",
   "execution_count": 18,
   "outputs": [],
   "source": [
    "\n"
   ],
   "metadata": {
    "collapsed": false,
    "pycharm": {
     "name": "#%%\n"
    }
   }
  }
 ],
 "metadata": {
  "kernelspec": {
   "display_name": "Python 3",
   "language": "python",
   "name": "python3"
  },
  "language_info": {
   "codemirror_mode": {
    "name": "ipython",
    "version": 2
   },
   "file_extension": ".py",
   "mimetype": "text/x-python",
   "name": "python",
   "nbconvert_exporter": "python",
   "pygments_lexer": "ipython2",
   "version": "2.7.6"
  }
 },
 "nbformat": 4,
 "nbformat_minor": 0
}