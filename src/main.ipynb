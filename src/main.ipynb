{
 "cells": [
  {
   "cell_type": "code",
   "execution_count": 273,
   "metadata": {
    "collapsed": true
   },
   "outputs": [],
   "source": [
    "import torch.optim as optim\n",
    "from torch_geometric.datasets import Planetoid\n",
    "import matplotlib.pyplot as plt\n",
    "from sklearn.manifold import TSNE\n",
    "import numpy as np\n",
    "import torch\n",
    "import torch.nn.functional as F\n",
    "from torch_geometric.nn import GCNConv\n",
    "from torch_geometric.transforms import NormalizeFeatures\n",
    "from torch_geometric.data import DataLoader\n",
    "import random\n",
    "\n",
    "torch.set_printoptions(edgeitems=500)\n",
    "\n",
    "# seed for reproducibility\n",
    "seed = 0\n",
    "torch.manual_seed(seed)\n",
    "np.random.seed(seed)\n",
    "random.seed(seed)\n",
    "\n",
    "import warnings\n",
    "warnings.filterwarnings('ignore')"
   ]
  },
  {
   "cell_type": "markdown",
   "source": [
    "### Load dataset"
   ],
   "metadata": {
    "collapsed": false
   }
  },
  {
   "cell_type": "markdown",
   "source": [
    "### Dataset info:\n",
    "class 0: without autism associations\n",
    "class 1: autism genes"
   ],
   "metadata": {
    "collapsed": false,
    "pycharm": {
     "name": "#%% md\n"
    }
   }
  },
  {
   "cell_type": "code",
   "execution_count": 274,
   "outputs": [],
   "source": [
    "import read_data\n",
    "\n",
    "data = read_data.read()"
   ],
   "metadata": {
    "collapsed": false,
    "pycharm": {
     "name": "#%%\n"
    }
   }
  },
  {
   "cell_type": "code",
   "execution_count": 275,
   "outputs": [
    {
     "data": {
      "text/plain": "Data(x=[23472, 23472], edge_index=[2, 811236], y=[23472], train_mask=[23472], test_mask=[23472], val_mask=[23472], num_classes=23)"
     },
     "execution_count": 275,
     "metadata": {},
     "output_type": "execute_result"
    }
   ],
   "source": [
    "data"
   ],
   "metadata": {
    "collapsed": false,
    "pycharm": {
     "name": "#%%\n"
    }
   }
  },
  {
   "cell_type": "code",
   "execution_count": 276,
   "outputs": [
    {
     "name": "stdout",
     "output_type": "stream",
     "text": [
      "Contains isolated nodes: False\n",
      "Contains self-loops: False\n",
      "Is undirected: True\n",
      "Average node degree: 34.56\n"
     ]
    }
   ],
   "source": [
    "print(f'Contains isolated nodes: {data.contains_isolated_nodes()}')\n",
    "print(f'Contains self-loops: {data.contains_self_loops()}')\n",
    "print(f'Is undirected: {data.is_undirected()}')\n",
    "print(f'Average node degree: {data.num_edges / data.num_nodes:.2f}')\n",
    "# dataset = data\n",
    "# data.train_mask = data.y >= 0"
   ],
   "metadata": {
    "collapsed": false,
    "pycharm": {
     "name": "#%%\n"
    }
   }
  },
  {
   "cell_type": "code",
   "execution_count": 276,
   "outputs": [],
   "source": [],
   "metadata": {
    "collapsed": false,
    "pycharm": {
     "name": "#%%\n"
    }
   }
  },
  {
   "cell_type": "code",
   "execution_count": 277,
   "outputs": [
    {
     "data": {
      "text/plain": "torch.Size([23472])"
     },
     "execution_count": 277,
     "metadata": {},
     "output_type": "execute_result"
    }
   ],
   "source": [
    "# total nodes\n",
    "data.train_mask.shape"
   ],
   "metadata": {
    "collapsed": false,
    "pycharm": {
     "name": "#%%\n"
    }
   }
  },
  {
   "cell_type": "code",
   "execution_count": 278,
   "outputs": [
    {
     "data": {
      "text/plain": "tensor(1284)"
     },
     "execution_count": 278,
     "metadata": {},
     "output_type": "execute_result"
    }
   ],
   "source": [
    "# number of training samples\n",
    "data.train_mask.sum()"
   ],
   "metadata": {
    "collapsed": false,
    "pycharm": {
     "name": "#%%\n"
    }
   }
  },
  {
   "cell_type": "code",
   "execution_count": 279,
   "outputs": [
    {
     "data": {
      "text/plain": "tensor(276)"
     },
     "execution_count": 279,
     "metadata": {},
     "output_type": "execute_result"
    }
   ],
   "source": [
    "# number of testing samples\n",
    "data.test_mask.sum()\n",
    "# data.test_mask = data.y >= 0"
   ],
   "metadata": {
    "collapsed": false,
    "pycharm": {
     "name": "#%%\n"
    }
   }
  },
  {
   "cell_type": "code",
   "execution_count": 280,
   "outputs": [
    {
     "data": {
      "text/plain": "tensor(275)"
     },
     "execution_count": 280,
     "metadata": {},
     "output_type": "execute_result"
    }
   ],
   "source": [
    "# number of validation samples\n",
    "data.val_mask.sum()"
   ],
   "metadata": {
    "collapsed": false,
    "pycharm": {
     "name": "#%%\n"
    }
   }
  },
  {
   "cell_type": "code",
   "execution_count": 281,
   "outputs": [
    {
     "data": {
      "text/plain": "torch.Size([1284])"
     },
     "execution_count": 281,
     "metadata": {},
     "output_type": "execute_result"
    }
   ],
   "source": [
    "data.y[data.train_mask].shape"
   ],
   "metadata": {
    "collapsed": false,
    "pycharm": {
     "name": "#%%\n"
    }
   }
  },
  {
   "cell_type": "code",
   "execution_count": 282,
   "outputs": [
    {
     "data": {
      "text/plain": "torch.Size([276])"
     },
     "execution_count": 282,
     "metadata": {},
     "output_type": "execute_result"
    }
   ],
   "source": [
    "data.y[data.test_mask].shape"
   ],
   "metadata": {
    "collapsed": false,
    "pycharm": {
     "name": "#%%\n"
    }
   }
  },
  {
   "cell_type": "markdown",
   "source": [
    "##### Visualization of the Model Using Tensorboard Command\n",
    "commandline run tensorboard\n",
    "```\n",
    "cd src\n",
    "tensorboard --logdir log\n",
    "```"
   ],
   "metadata": {
    "collapsed": false
   }
  },
  {
   "cell_type": "code",
   "execution_count": 283,
   "outputs": [
    {
     "name": "stdout",
     "output_type": "stream",
     "text": [
      "GCNStack(\n",
      "  (convs): ModuleList(\n",
      "    (0): GCNConv(23472, 128)\n",
      "    (1): GCNConv(128, 64)\n",
      "    (2): GCNConv(64, 32)\n",
      "  )\n",
      "  (lns): ModuleList(\n",
      "    (0): LayerNorm((128,), eps=1e-05, elementwise_affine=True)\n",
      "    (1): LayerNorm((64,), eps=1e-05, elementwise_affine=True)\n",
      "  )\n",
      "  (post_mp): Sequential(\n",
      "    (0): Linear(in_features=32, out_features=32, bias=True)\n",
      "    (1): Linear(in_features=32, out_features=23, bias=True)\n",
      "  )\n",
      ")\n"
     ]
    }
   ],
   "source": [
    "# build model\n",
    "from GCN import GCNStack\n",
    "\n",
    "model = GCNStack(data.num_node_features, hidden_dim1=128, hidden_dim2=64, hidden_dim3=32, output_dim=data.num_classes, dropout=0.5)\n",
    "print(model)\n"
   ],
   "metadata": {
    "collapsed": false,
    "pycharm": {
     "name": "#%%\n"
    }
   }
  },
  {
   "cell_type": "code",
   "execution_count": 283,
   "outputs": [],
   "source": [],
   "metadata": {
    "collapsed": false,
    "pycharm": {
     "name": "#%%\n"
    }
   }
  },
  {
   "cell_type": "code",
   "execution_count": 284,
   "outputs": [],
   "source": [
    "# Running on GPU or CPU\n",
    "use_GPU = True\n",
    "device = torch.device('cuda' if torch.cuda.is_available() and use_GPU else 'cpu')\n",
    "model, data = model.to(device), data.to(device)"
   ],
   "metadata": {
    "collapsed": false,
    "pycharm": {
     "name": "#%%\n"
    }
   }
  },
  {
   "cell_type": "code",
   "execution_count": 285,
   "outputs": [
    {
     "data": {
      "text/plain": "device(type='cuda')"
     },
     "execution_count": 285,
     "metadata": {},
     "output_type": "execute_result"
    }
   ],
   "source": [
    "device\n"
   ],
   "metadata": {
    "collapsed": false,
    "pycharm": {
     "name": "#%%\n"
    }
   }
  },
  {
   "cell_type": "code",
   "execution_count": 286,
   "outputs": [],
   "source": [
    "# torch.cuda.empty_cache()"
   ],
   "metadata": {
    "collapsed": false,
    "pycharm": {
     "name": "#%%\n"
    }
   }
  },
  {
   "cell_type": "markdown",
   "source": [
    "### Model training"
   ],
   "metadata": {
    "collapsed": false
   }
  },
  {
   "cell_type": "code",
   "execution_count": 287,
   "outputs": [
    {
     "name": "stdout",
     "output_type": "stream",
     "text": [
      "Epoch 0. Loss: 3.1149. Train accuracy: 0.1363. Validation accuracy: 0.0909\n",
      "Epoch 1. Loss: 3.0183. Train accuracy: 0.1153. Validation accuracy: 0.1091\n",
      "Epoch 2. Loss: 2.9622. Train accuracy: 0.2780. Validation accuracy: 0.2473\n",
      "Epoch 3. Loss: 2.9178. Train accuracy: 0.5771. Validation accuracy: 0.5564\n",
      "Epoch 4. Loss: 2.8849. Train accuracy: 0.6854. Validation accuracy: 0.6764\n",
      "Epoch 5. Loss: 2.8576. Train accuracy: 0.7266. Validation accuracy: 0.7127\n",
      "Epoch 6. Loss: 2.8444. Train accuracy: 0.7508. Validation accuracy: 0.7345\n",
      "Epoch 7. Loss: 2.8259. Train accuracy: 0.7695. Validation accuracy: 0.7564\n",
      "Epoch 8. Loss: 2.8207. Train accuracy: 0.7835. Validation accuracy: 0.7709\n",
      "Epoch 9. Loss: 2.7975. Train accuracy: 0.7913. Validation accuracy: 0.7709\n",
      "Epoch 10. Loss: 2.7857. Train accuracy: 0.8006. Validation accuracy: 0.7782\n",
      "Epoch 11. Loss: 2.7855. Train accuracy: 0.8061. Validation accuracy: 0.7782\n",
      "Epoch 12. Loss: 2.7715. Train accuracy: 0.8123. Validation accuracy: 0.7855\n",
      "Epoch 13. Loss: 2.7689. Train accuracy: 0.8185. Validation accuracy: 0.7927\n",
      "Epoch 14. Loss: 2.7522. Train accuracy: 0.8240. Validation accuracy: 0.7927\n",
      "Epoch 15. Loss: 2.7522. Train accuracy: 0.8279. Validation accuracy: 0.8036\n",
      "Epoch 16. Loss: 2.7344. Train accuracy: 0.8318. Validation accuracy: 0.8036\n",
      "Epoch 17. Loss: 2.7332. Train accuracy: 0.8333. Validation accuracy: 0.8036\n",
      "Epoch 18. Loss: 2.7106. Train accuracy: 0.8357. Validation accuracy: 0.8073\n",
      "Epoch 19. Loss: 2.7209. Train accuracy: 0.8372. Validation accuracy: 0.8073\n",
      "Epoch 20. Loss: 2.6949. Train accuracy: 0.8388. Validation accuracy: 0.8109\n",
      "Epoch 21. Loss: 2.6975. Train accuracy: 0.8403. Validation accuracy: 0.8145\n",
      "Epoch 22. Loss: 2.6930. Train accuracy: 0.8442. Validation accuracy: 0.8145\n",
      "Epoch 23. Loss: 2.6750. Train accuracy: 0.8474. Validation accuracy: 0.8182\n",
      "Epoch 24. Loss: 2.6761. Train accuracy: 0.8505. Validation accuracy: 0.8182\n",
      "Epoch 25. Loss: 2.6702. Train accuracy: 0.8512. Validation accuracy: 0.8218\n",
      "Epoch 26. Loss: 2.6601. Train accuracy: 0.8536. Validation accuracy: 0.8218\n",
      "Epoch 27. Loss: 2.6593. Train accuracy: 0.8544. Validation accuracy: 0.8255\n",
      "Epoch 28. Loss: 2.6392. Train accuracy: 0.8544. Validation accuracy: 0.8291\n",
      "Epoch 29. Loss: 2.6340. Train accuracy: 0.8551. Validation accuracy: 0.8291\n",
      "Epoch 30. Loss: 2.6226. Train accuracy: 0.8583. Validation accuracy: 0.8327\n",
      "Epoch 31. Loss: 2.6115. Train accuracy: 0.8590. Validation accuracy: 0.8327\n",
      "Epoch 32. Loss: 2.5923. Train accuracy: 0.8614. Validation accuracy: 0.8327\n",
      "Epoch 33. Loss: 2.5877. Train accuracy: 0.8621. Validation accuracy: 0.8327\n",
      "Epoch 34. Loss: 2.5903. Train accuracy: 0.8637. Validation accuracy: 0.8327\n",
      "Epoch 35. Loss: 2.5814. Train accuracy: 0.8645. Validation accuracy: 0.8364\n",
      "Epoch 36. Loss: 2.5818. Train accuracy: 0.8645. Validation accuracy: 0.8364\n",
      "Epoch 37. Loss: 2.5513. Train accuracy: 0.8645. Validation accuracy: 0.8400\n",
      "Epoch 38. Loss: 2.5610. Train accuracy: 0.8653. Validation accuracy: 0.8400\n",
      "Epoch 39. Loss: 2.5558. Train accuracy: 0.8668. Validation accuracy: 0.8436\n",
      "Epoch 40. Loss: 2.5516. Train accuracy: 0.8668. Validation accuracy: 0.8436\n",
      "Epoch 41. Loss: 2.5248. Train accuracy: 0.8676. Validation accuracy: 0.8436\n",
      "Epoch 42. Loss: 2.5068. Train accuracy: 0.8684. Validation accuracy: 0.8473\n",
      "Epoch 43. Loss: 2.5166. Train accuracy: 0.8692. Validation accuracy: 0.8473\n",
      "Epoch 44. Loss: 2.5171. Train accuracy: 0.8692. Validation accuracy: 0.8473\n",
      "Epoch 45. Loss: 2.4891. Train accuracy: 0.8692. Validation accuracy: 0.8473\n",
      "Epoch 46. Loss: 2.4808. Train accuracy: 0.8699. Validation accuracy: 0.8473\n",
      "Epoch 47. Loss: 2.4821. Train accuracy: 0.8707. Validation accuracy: 0.8473\n",
      "Epoch 48. Loss: 2.4711. Train accuracy: 0.8707. Validation accuracy: 0.8473\n",
      "Epoch 49. Loss: 2.4603. Train accuracy: 0.8707. Validation accuracy: 0.8473\n",
      "Epoch 50. Loss: 2.4557. Train accuracy: 0.8707. Validation accuracy: 0.8473\n",
      "Epoch 51. Loss: 2.4526. Train accuracy: 0.8707. Validation accuracy: 0.8473\n",
      "Epoch 52. Loss: 2.4204. Train accuracy: 0.8707. Validation accuracy: 0.8473\n",
      "Epoch 53. Loss: 2.4265. Train accuracy: 0.8707. Validation accuracy: 0.8473\n",
      "Epoch 54. Loss: 2.4272. Train accuracy: 0.8707. Validation accuracy: 0.8473\n",
      "Epoch 55. Loss: 2.3881. Train accuracy: 0.8707. Validation accuracy: 0.8473\n",
      "Epoch 56. Loss: 2.4206. Train accuracy: 0.8707. Validation accuracy: 0.8473\n",
      "Epoch 57. Loss: 2.3817. Train accuracy: 0.8707. Validation accuracy: 0.8473\n",
      "Epoch 58. Loss: 2.3733. Train accuracy: 0.8707. Validation accuracy: 0.8473\n",
      "Epoch 59. Loss: 2.3620. Train accuracy: 0.8707. Validation accuracy: 0.8473\n",
      "Epoch 60. Loss: 2.3668. Train accuracy: 0.8707. Validation accuracy: 0.8473\n",
      "Epoch 61. Loss: 2.3339. Train accuracy: 0.8707. Validation accuracy: 0.8473\n",
      "Epoch 62. Loss: 2.3463. Train accuracy: 0.8707. Validation accuracy: 0.8473\n",
      "Epoch 63. Loss: 2.3267. Train accuracy: 0.8707. Validation accuracy: 0.8473\n",
      "Epoch 64. Loss: 2.3177. Train accuracy: 0.8707. Validation accuracy: 0.8473\n",
      "Epoch 65. Loss: 2.2942. Train accuracy: 0.8707. Validation accuracy: 0.8473\n",
      "Epoch 66. Loss: 2.2981. Train accuracy: 0.8707. Validation accuracy: 0.8473\n",
      "Epoch 67. Loss: 2.2910. Train accuracy: 0.8707. Validation accuracy: 0.8473\n",
      "Epoch 68. Loss: 2.2885. Train accuracy: 0.8707. Validation accuracy: 0.8473\n",
      "Epoch 69. Loss: 2.2873. Train accuracy: 0.8707. Validation accuracy: 0.8473\n",
      "Epoch 70. Loss: 2.2651. Train accuracy: 0.8707. Validation accuracy: 0.8473\n",
      "Epoch 71. Loss: 2.2496. Train accuracy: 0.8707. Validation accuracy: 0.8473\n",
      "Epoch 72. Loss: 2.2571. Train accuracy: 0.8707. Validation accuracy: 0.8473\n",
      "Epoch 73. Loss: 2.2485. Train accuracy: 0.8707. Validation accuracy: 0.8473\n",
      "Epoch 74. Loss: 2.2081. Train accuracy: 0.8707. Validation accuracy: 0.8473\n",
      "Epoch 75. Loss: 2.2291. Train accuracy: 0.8707. Validation accuracy: 0.8473\n",
      "Epoch 76. Loss: 2.2047. Train accuracy: 0.8707. Validation accuracy: 0.8473\n",
      "Epoch 77. Loss: 2.1896. Train accuracy: 0.8707. Validation accuracy: 0.8473\n",
      "Epoch 78. Loss: 2.2052. Train accuracy: 0.8699. Validation accuracy: 0.8473\n",
      "Epoch 79. Loss: 2.1810. Train accuracy: 0.8699. Validation accuracy: 0.8473\n",
      "Epoch 80. Loss: 2.1724. Train accuracy: 0.8699. Validation accuracy: 0.8473\n"
     ]
    }
   ],
   "source": [
    "def model_test(loader, model, is_validation=False, is_training=False):\n",
    "    ''' Testing Code of the Model '''\n",
    "    model.eval()\n",
    "\n",
    "    correct = 0\n",
    "    for data in loader:\n",
    "        with torch.no_grad():\n",
    "            emb, pred = model(data.x, data.edge_index)\n",
    "            pred = pred.argmax(dim=1)\n",
    "\n",
    "        if is_training:\n",
    "            mask = data.train_mask\n",
    "        elif is_validation:\n",
    "            mask = data.val_mask\n",
    "        else: # testing\n",
    "            mask = data.test_mask\n",
    "        # node classification: only evaluate on nodes in test set\n",
    "        pred = pred[mask]\n",
    "        label = data.y[mask]\n",
    "        # testing code\n",
    "        # training_status = 'Training' if is_training else 'Testing'\n",
    "        # print(training_status, '$$pred', pred)\n",
    "        # print(training_status, '%%label', label)\n",
    "        correct += pred.eq(label).sum().item()\n",
    "    total = 0\n",
    "    for data in loader.dataset:\n",
    "        if is_training:\n",
    "            total += torch.sum(data.train_mask).item()\n",
    "        elif is_validation:\n",
    "            total += torch.sum(data.val_mask).item()\n",
    "        else:\n",
    "            total += torch.sum(data.test_mask).item()\n",
    "    return correct / total, pred, label\n",
    "\n",
    "def model_train(dataset, writer, model, epoch_num, lr, weight_decay, momentum):\n",
    "    ''' Training code of the model '''\n",
    "    test_loader = loader = DataLoader(dataset, shuffle=False)\n",
    "\n",
    "    # Optimizer\n",
    "    # opt = optim.SGD(model.parameters(), lr=lr, weight_decay=weight_decay, momentum=momentum)\n",
    "    opt = optim.Adam(model.parameters(), lr=lr, weight_decay=weight_decay)\n",
    "\n",
    "    # visualize the model architecture in tensorboard\n",
    "    # writer.add_graph(model, ( data.x, data.edge_index ))\n",
    "\n",
    "    # Training:\n",
    "    for epoch in range(epoch_num + 1):\n",
    "        total_loss = 0\n",
    "        model.train()\n",
    "        for batch in loader:\n",
    "            #print(batch.train_mask, '----')\n",
    "            opt.zero_grad()\n",
    "            embedding, pred = model(batch.x, batch.edge_index)\n",
    "            label = batch.y\n",
    "            pred = pred[batch.train_mask]\n",
    "            label = label[batch.train_mask]\n",
    "            loss = model.loss(pred, label)\n",
    "            loss.backward()\n",
    "            opt.step()\n",
    "            total_loss += loss.item() * batch.num_graphs\n",
    "        total_loss /= len(loader.dataset)\n",
    "        writer.add_scalar(\"loss\", total_loss, epoch)\n",
    "\n",
    "        # if epoch % 5 == 0:\n",
    "        train_acc, _, _ = model_test(test_loader, model, is_training=True)\n",
    "        validation_acc, _, _= model_test(test_loader, model, is_training=False, is_validation=True)\n",
    "        print(\"Epoch {}. Loss: {:.4f}. Train accuracy: {:.4f}. Validation accuracy: {:.4f}\".format(\n",
    "            epoch, total_loss, train_acc, validation_acc))\n",
    "        writer.add_scalar(\"validation accuracy\", validation_acc, epoch)\n",
    "\n",
    "        if epoch % 20 == 0:\n",
    "            name = 'epoch' + str(epoch)\n",
    "            writer.add_embedding(embedding, global_step=epoch, tag=name, metadata=batch.y)\n",
    "\n",
    "    return model\n",
    "\n",
    "from datetime import datetime\n",
    "from tensorboardX import SummaryWriter\n",
    "\n",
    "writer = SummaryWriter(\"./log/\" + datetime.now().strftime(\"%Y%m%d-%H%M%S\"))\n",
    "\n",
    "model_trained = model_train([data], writer, model, epoch_num=80, lr=0.0001, weight_decay=0.00001, momentum=0.9)"
   ],
   "metadata": {
    "collapsed": false,
    "pycharm": {
     "name": "#%%\n"
    }
   }
  },
  {
   "cell_type": "markdown",
   "source": [],
   "metadata": {
    "collapsed": false,
    "pycharm": {
     "name": "#%% md\n"
    }
   }
  },
  {
   "cell_type": "markdown",
   "source": [
    "### Model Evaluation"
   ],
   "metadata": {
    "collapsed": false
   }
  },
  {
   "cell_type": "code",
   "execution_count": 288,
   "outputs": [],
   "source": [
    "test_acc, pred, label = model_test( DataLoader([data], shuffle=False), model_trained, is_training=False, is_validation=False)"
   ],
   "metadata": {
    "collapsed": false,
    "pycharm": {
     "name": "#%%\n"
    }
   }
  },
  {
   "cell_type": "code",
   "execution_count": 289,
   "outputs": [
    {
     "data": {
      "text/plain": "0.8840579710144928"
     },
     "execution_count": 289,
     "metadata": {},
     "output_type": "execute_result"
    }
   ],
   "source": [
    "test_acc"
   ],
   "metadata": {
    "collapsed": false,
    "pycharm": {
     "name": "#%%\n"
    }
   }
  },
  {
   "cell_type": "code",
   "execution_count": 290,
   "outputs": [],
   "source": [
    "pred_np = pred.cpu().detach().numpy()\n",
    "label_np = label.cpu().detach().numpy()"
   ],
   "metadata": {
    "collapsed": false,
    "pycharm": {
     "name": "#%%\n"
    }
   }
  },
  {
   "cell_type": "code",
   "execution_count": 291,
   "outputs": [],
   "source": [
    "from sklearn.metrics import f1_score,  recall_score, precision_score"
   ],
   "metadata": {
    "collapsed": false,
    "pycharm": {
     "name": "#%%\n"
    }
   }
  },
  {
   "cell_type": "code",
   "execution_count": 292,
   "outputs": [
    {
     "data": {
      "text/plain": "0.9384615384615385"
     },
     "execution_count": 292,
     "metadata": {},
     "output_type": "execute_result"
    }
   ],
   "source": [
    "f1_score(pred_np, label_np, average='weighted')"
   ],
   "metadata": {
    "collapsed": false,
    "pycharm": {
     "name": "#%%\n"
    }
   }
  },
  {
   "cell_type": "code",
   "execution_count": 293,
   "outputs": [
    {
     "data": {
      "text/plain": "1.0"
     },
     "execution_count": 293,
     "metadata": {},
     "output_type": "execute_result"
    }
   ],
   "source": [
    "precision_score(pred_np, label_np, average='weighted')"
   ],
   "metadata": {
    "collapsed": false,
    "pycharm": {
     "name": "#%%\n"
    }
   }
  },
  {
   "cell_type": "code",
   "execution_count": 294,
   "outputs": [
    {
     "data": {
      "text/plain": "0.8840579710144928"
     },
     "execution_count": 294,
     "metadata": {},
     "output_type": "execute_result"
    }
   ],
   "source": [
    "recall_score(pred_np, label_np, average='weighted')"
   ],
   "metadata": {
    "collapsed": false,
    "pycharm": {
     "name": "#%%\n"
    }
   }
  },
  {
   "cell_type": "markdown",
   "source": [
    "### Save model"
   ],
   "metadata": {
    "collapsed": false
   }
  },
  {
   "cell_type": "code",
   "execution_count": 24,
   "outputs": [],
   "source": [
    "# save model\n",
    "# torch.save(model_trained, f='pretrained_model.pth')"
   ],
   "metadata": {
    "collapsed": false,
    "pycharm": {
     "name": "#%%\n"
    }
   }
  },
  {
   "cell_type": "markdown",
   "source": [],
   "metadata": {
    "collapsed": false
   }
  },
  {
   "cell_type": "code",
   "execution_count": 266,
   "outputs": [],
   "source": [
    "# change k here\n",
    "num_of_k = 7000\n",
    "\n",
    "def compute_top_k(loader, model):\n",
    "    ''' Testing Code of the Model '''\n",
    "    model.eval()\n",
    "\n",
    "    for data in loader:\n",
    "        with torch.no_grad():\n",
    "            emb, pred = model(data.x, data.edge_index)\n",
    "            prob = F.softmax(pred, dim=1).max(dim=1)[0]\n",
    "            pred = pred.argmax(dim=1)\n",
    "            # compute top k with the highest probability\n",
    "            val, idx = torch.topk(prob, k=num_of_k, dim=0)\n",
    "\n",
    "    return  pred, val, idx\n",
    "\n",
    "pred, val, idx = compute_top_k( DataLoader([data], shuffle=False), model_trained)\n",
    "\n"
   ],
   "metadata": {
    "collapsed": false,
    "pycharm": {
     "name": "#%%\n"
    }
   }
  },
  {
   "cell_type": "code",
   "execution_count": 268,
   "outputs": [],
   "source": [
    "positive_position = read_data.get_autism_position()"
   ],
   "metadata": {
    "collapsed": false,
    "pycharm": {
     "name": "#%%\n"
    }
   }
  },
  {
   "cell_type": "code",
   "execution_count": 269,
   "outputs": [],
   "source": [
    "idx = idx.tolist()\n",
    "positive_position = positive_position.tolist()"
   ],
   "metadata": {
    "collapsed": false,
    "pycharm": {
     "name": "#%%\n"
    }
   }
  },
  {
   "cell_type": "code",
   "execution_count": 270,
   "outputs": [],
   "source": [
    "aa = set(idx).intersection(positive_position)"
   ],
   "metadata": {
    "collapsed": false,
    "pycharm": {
     "name": "#%%\n"
    }
   }
  },
  {
   "cell_type": "code",
   "execution_count": 271,
   "outputs": [
    {
     "data": {
      "text/plain": "0.003285714285714286"
     },
     "execution_count": 271,
     "metadata": {},
     "output_type": "execute_result"
    }
   ],
   "source": [
    "# using the paper formula to calculate\n",
    "len(aa) / num_of_k"
   ],
   "metadata": {
    "collapsed": false,
    "pycharm": {
     "name": "#%%\n"
    }
   }
  },
  {
   "cell_type": "code",
   "execution_count": 294,
   "outputs": [],
   "source": [],
   "metadata": {
    "collapsed": false,
    "pycharm": {
     "name": "#%%\n"
    }
   }
  },
  {
   "cell_type": "code",
   "execution_count": null,
   "outputs": [],
   "source": [],
   "metadata": {
    "collapsed": false,
    "pycharm": {
     "name": "#%%\n"
    }
   }
  }
 ],
 "metadata": {
  "kernelspec": {
   "display_name": "Python 3",
   "language": "python",
   "name": "python3"
  },
  "language_info": {
   "codemirror_mode": {
    "name": "ipython",
    "version": 2
   },
   "file_extension": ".py",
   "mimetype": "text/x-python",
   "name": "python",
   "nbconvert_exporter": "python",
   "pygments_lexer": "ipython2",
   "version": "2.7.6"
  }
 },
 "nbformat": 4,
 "nbformat_minor": 0
}