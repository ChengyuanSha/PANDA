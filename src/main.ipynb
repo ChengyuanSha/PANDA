{
 "cells": [
  {
   "cell_type": "code",
   "execution_count": 1,
   "metadata": {
    "collapsed": true
   },
   "outputs": [],
   "source": [
    "import torch.optim as optim\n",
    "from torch_geometric.datasets import Planetoid\n",
    "import matplotlib.pyplot as plt\n",
    "from sklearn.manifold import TSNE\n",
    "import numpy as np\n",
    "import torch\n",
    "import torch.nn.functional as F\n",
    "from torch_geometric.nn import GCNConv\n",
    "from torch_geometric.transforms import NormalizeFeatures\n",
    "from torch_geometric.data import DataLoader\n",
    "import random\n",
    "\n",
    "torch.set_printoptions(edgeitems=500)\n",
    "\n",
    "# seed for reproducibility\n",
    "seed = 0\n",
    "torch.manual_seed(seed)\n",
    "np.random.seed(seed)\n",
    "random.seed(seed)\n",
    "\n",
    "import warnings\n",
    "warnings.filterwarnings('ignore')"
   ]
  },
  {
   "cell_type": "markdown",
   "source": [
    "### Dataset info:\n",
    "class 0: without autism associations\n",
    "class 1: autism genes"
   ],
   "metadata": {
    "collapsed": false,
    "pycharm": {
     "name": "#%% md\n"
    }
   }
  },
  {
   "cell_type": "code",
   "execution_count": 2,
   "outputs": [],
   "source": [
    "import read_data\n",
    "\n",
    "data = read_data.read()"
   ],
   "metadata": {
    "collapsed": false,
    "pycharm": {
     "name": "#%%\n"
    }
   }
  },
  {
   "cell_type": "code",
   "execution_count": 3,
   "outputs": [
    {
     "data": {
      "text/plain": "Data(edge_index=[2, 811236], num_classes=3, test_mask=[23472], train_mask=[23472], val_mask=[23472], x=[23472, 23472], y=[23472])"
     },
     "execution_count": 3,
     "metadata": {},
     "output_type": "execute_result"
    }
   ],
   "source": [
    "data"
   ],
   "metadata": {
    "collapsed": false,
    "pycharm": {
     "name": "#%%\n"
    }
   }
  },
  {
   "cell_type": "code",
   "execution_count": 4,
   "outputs": [
    {
     "name": "stdout",
     "output_type": "stream",
     "text": [
      "Contains isolated nodes: False\n",
      "Contains self-loops: False\n",
      "Is undirected: True\n",
      "Average node degree: 34.56\n"
     ]
    }
   ],
   "source": [
    "print(f'Contains isolated nodes: {data.contains_isolated_nodes()}')\n",
    "print(f'Contains self-loops: {data.contains_self_loops()}')\n",
    "print(f'Is undirected: {data.is_undirected()}')\n",
    "print(f'Average node degree: {data.num_edges / data.num_nodes:.2f}')\n",
    "# dataset = data\n",
    "# data.train_mask = data.y >= 0"
   ],
   "metadata": {
    "collapsed": false,
    "pycharm": {
     "name": "#%%\n"
    }
   }
  },
  {
   "cell_type": "code",
   "execution_count": 4,
   "outputs": [],
   "source": [],
   "metadata": {
    "collapsed": false,
    "pycharm": {
     "name": "#%%\n"
    }
   }
  },
  {
   "cell_type": "code",
   "execution_count": 5,
   "outputs": [
    {
     "data": {
      "text/plain": "torch.Size([23472])"
     },
     "execution_count": 5,
     "metadata": {},
     "output_type": "execute_result"
    }
   ],
   "source": [
    "# total nodes\n",
    "data.train_mask.shape"
   ],
   "metadata": {
    "collapsed": false,
    "pycharm": {
     "name": "#%%\n"
    }
   }
  },
  {
   "cell_type": "code",
   "execution_count": 6,
   "outputs": [
    {
     "data": {
      "text/plain": "tensor(1284)"
     },
     "execution_count": 6,
     "metadata": {},
     "output_type": "execute_result"
    }
   ],
   "source": [
    "# number of training samples\n",
    "data.train_mask.sum()"
   ],
   "metadata": {
    "collapsed": false,
    "pycharm": {
     "name": "#%%\n"
    }
   }
  },
  {
   "cell_type": "code",
   "execution_count": 7,
   "outputs": [
    {
     "data": {
      "text/plain": "tensor(276)"
     },
     "execution_count": 7,
     "metadata": {},
     "output_type": "execute_result"
    }
   ],
   "source": [
    "# number of testing samples\n",
    "data.test_mask.sum()\n",
    "# data.test_mask = data.y >= 0"
   ],
   "metadata": {
    "collapsed": false,
    "pycharm": {
     "name": "#%%\n"
    }
   }
  },
  {
   "cell_type": "code",
   "execution_count": 8,
   "outputs": [
    {
     "data": {
      "text/plain": "tensor(275)"
     },
     "execution_count": 8,
     "metadata": {},
     "output_type": "execute_result"
    }
   ],
   "source": [
    "# number of validation samples\n",
    "data.val_mask.sum()"
   ],
   "metadata": {
    "collapsed": false,
    "pycharm": {
     "name": "#%%\n"
    }
   }
  },
  {
   "cell_type": "code",
   "execution_count": 9,
   "outputs": [
    {
     "data": {
      "text/plain": "torch.Size([1284])"
     },
     "execution_count": 9,
     "metadata": {},
     "output_type": "execute_result"
    }
   ],
   "source": [
    "data.y[data.train_mask].shape"
   ],
   "metadata": {
    "collapsed": false,
    "pycharm": {
     "name": "#%%\n"
    }
   }
  },
  {
   "cell_type": "code",
   "execution_count": 10,
   "outputs": [
    {
     "data": {
      "text/plain": "torch.Size([276])"
     },
     "execution_count": 10,
     "metadata": {},
     "output_type": "execute_result"
    }
   ],
   "source": [
    "data.y[data.test_mask].shape"
   ],
   "metadata": {
    "collapsed": false,
    "pycharm": {
     "name": "#%%\n"
    }
   }
  },
  {
   "cell_type": "markdown",
   "source": [
    "### Visualization of the Model Using Tensorboard Command\n",
    "commandline run tensorboard\n",
    "```\n",
    "cd src\n",
    "tensorboard --logdir log\n",
    "```"
   ],
   "metadata": {
    "collapsed": false
   }
  },
  {
   "cell_type": "code",
   "execution_count": 11,
   "outputs": [
    {
     "name": "stdout",
     "output_type": "stream",
     "text": [
      "GCNStack(\n",
      "  (convs): ModuleList(\n",
      "    (0): GCNConv(23472, 128)\n",
      "    (1): GCNConv(128, 64)\n",
      "    (2): GCNConv(64, 32)\n",
      "  )\n",
      "  (lns): ModuleList(\n",
      "    (0): LayerNorm((128,), eps=1e-05, elementwise_affine=True)\n",
      "    (1): LayerNorm((64,), eps=1e-05, elementwise_affine=True)\n",
      "  )\n",
      "  (post_mp): Sequential(\n",
      "    (0): Linear(in_features=32, out_features=32, bias=True)\n",
      "    (1): Linear(in_features=32, out_features=3, bias=True)\n",
      "  )\n",
      ")\n"
     ]
    }
   ],
   "source": [
    "# build model\n",
    "from GCN import GCNStack\n",
    "\n",
    "model = GCNStack(data.num_node_features, hidden_dim1=128, hidden_dim2=64, hidden_dim3=32, output_dim=data.num_classes, dropout=0.5)\n",
    "print(model)\n"
   ],
   "metadata": {
    "collapsed": false,
    "pycharm": {
     "name": "#%%\n"
    }
   }
  },
  {
   "cell_type": "code",
   "execution_count": 11,
   "outputs": [],
   "source": [],
   "metadata": {
    "collapsed": false,
    "pycharm": {
     "name": "#%%\n"
    }
   }
  },
  {
   "cell_type": "code",
   "execution_count": 12,
   "outputs": [],
   "source": [
    "# Running on GPU or CPU\n",
    "use_GPU = True\n",
    "device = torch.device('cuda' if torch.cuda.is_available() and use_GPU else 'cpu')\n",
    "model, data = model.to(device), data.to(device)"
   ],
   "metadata": {
    "collapsed": false,
    "pycharm": {
     "name": "#%%\n"
    }
   }
  },
  {
   "cell_type": "code",
   "execution_count": 13,
   "outputs": [
    {
     "data": {
      "text/plain": "device(type='cuda')"
     },
     "execution_count": 13,
     "metadata": {},
     "output_type": "execute_result"
    }
   ],
   "source": [
    "device\n"
   ],
   "metadata": {
    "collapsed": false,
    "pycharm": {
     "name": "#%%\n"
    }
   }
  },
  {
   "cell_type": "code",
   "execution_count": 14,
   "outputs": [],
   "source": [
    "# torch.cuda.empty_cache()"
   ],
   "metadata": {
    "collapsed": false,
    "pycharm": {
     "name": "#%%\n"
    }
   }
  },
  {
   "cell_type": "markdown",
   "source": [
    "### Model training"
   ],
   "metadata": {
    "collapsed": false
   }
  },
  {
   "cell_type": "code",
   "execution_count": 15,
   "outputs": [
    {
     "name": "stdout",
     "output_type": "stream",
     "text": [
      "Epoch 0. Loss: 1.1936. Train accuracy: 0.2531. Validation accuracy: 0.2509\n",
      "Epoch 1. Loss: 1.1139. Train accuracy: 0.6137. Validation accuracy: 0.5891\n",
      "Epoch 2. Loss: 1.0603. Train accuracy: 0.7290. Validation accuracy: 0.7164\n",
      "Epoch 3. Loss: 1.0223. Train accuracy: 0.7765. Validation accuracy: 0.7709\n",
      "Epoch 4. Loss: 0.9908. Train accuracy: 0.8045. Validation accuracy: 0.8000\n",
      "Epoch 5. Loss: 0.9684. Train accuracy: 0.8209. Validation accuracy: 0.8109\n",
      "Epoch 6. Loss: 0.9555. Train accuracy: 0.8287. Validation accuracy: 0.8364\n",
      "Epoch 7. Loss: 0.9405. Train accuracy: 0.8341. Validation accuracy: 0.8400\n",
      "Epoch 8. Loss: 0.9222. Train accuracy: 0.8427. Validation accuracy: 0.8436\n",
      "Epoch 9. Loss: 0.9157. Train accuracy: 0.8474. Validation accuracy: 0.8509\n",
      "Epoch 10. Loss: 0.9063. Train accuracy: 0.8505. Validation accuracy: 0.8545\n",
      "Epoch 11. Loss: 0.8973. Train accuracy: 0.8544. Validation accuracy: 0.8545\n",
      "Epoch 12. Loss: 0.8913. Train accuracy: 0.8575. Validation accuracy: 0.8545\n",
      "Epoch 13. Loss: 0.8974. Train accuracy: 0.8590. Validation accuracy: 0.8545\n",
      "Epoch 14. Loss: 0.8825. Train accuracy: 0.8598. Validation accuracy: 0.8545\n",
      "Epoch 15. Loss: 0.8749. Train accuracy: 0.8614. Validation accuracy: 0.8545\n",
      "Epoch 16. Loss: 0.8816. Train accuracy: 0.8614. Validation accuracy: 0.8545\n",
      "Epoch 17. Loss: 0.8642. Train accuracy: 0.8614. Validation accuracy: 0.8582\n",
      "Epoch 18. Loss: 0.8639. Train accuracy: 0.8629. Validation accuracy: 0.8582\n",
      "Epoch 19. Loss: 0.8631. Train accuracy: 0.8637. Validation accuracy: 0.8582\n",
      "Epoch 20. Loss: 0.8514. Train accuracy: 0.8637. Validation accuracy: 0.8582\n",
      "Epoch 21. Loss: 0.8460. Train accuracy: 0.8645. Validation accuracy: 0.8582\n",
      "Epoch 22. Loss: 0.8397. Train accuracy: 0.8645. Validation accuracy: 0.8582\n",
      "Epoch 23. Loss: 0.8330. Train accuracy: 0.8645. Validation accuracy: 0.8582\n",
      "Epoch 24. Loss: 0.8309. Train accuracy: 0.8645. Validation accuracy: 0.8582\n",
      "Epoch 25. Loss: 0.8387. Train accuracy: 0.8653. Validation accuracy: 0.8655\n",
      "Epoch 26. Loss: 0.8281. Train accuracy: 0.8653. Validation accuracy: 0.8655\n",
      "Epoch 27. Loss: 0.8198. Train accuracy: 0.8660. Validation accuracy: 0.8655\n",
      "Epoch 28. Loss: 0.8216. Train accuracy: 0.8660. Validation accuracy: 0.8655\n",
      "Epoch 29. Loss: 0.8220. Train accuracy: 0.8668. Validation accuracy: 0.8655\n",
      "Epoch 30. Loss: 0.8075. Train accuracy: 0.8668. Validation accuracy: 0.8655\n",
      "Epoch 31. Loss: 0.7993. Train accuracy: 0.8668. Validation accuracy: 0.8691\n",
      "Epoch 32. Loss: 0.8052. Train accuracy: 0.8668. Validation accuracy: 0.8691\n",
      "Epoch 33. Loss: 0.7906. Train accuracy: 0.8676. Validation accuracy: 0.8691\n",
      "Epoch 34. Loss: 0.7765. Train accuracy: 0.8676. Validation accuracy: 0.8691\n",
      "Epoch 35. Loss: 0.7884. Train accuracy: 0.8676. Validation accuracy: 0.8691\n",
      "Epoch 36. Loss: 0.7801. Train accuracy: 0.8676. Validation accuracy: 0.8691\n",
      "Epoch 37. Loss: 0.7882. Train accuracy: 0.8684. Validation accuracy: 0.8691\n",
      "Epoch 38. Loss: 0.7691. Train accuracy: 0.8684. Validation accuracy: 0.8691\n",
      "Epoch 39. Loss: 0.7691. Train accuracy: 0.8684. Validation accuracy: 0.8691\n",
      "Epoch 40. Loss: 0.7758. Train accuracy: 0.8684. Validation accuracy: 0.8691\n",
      "Epoch 41. Loss: 0.7611. Train accuracy: 0.8684. Validation accuracy: 0.8691\n",
      "Epoch 42. Loss: 0.7478. Train accuracy: 0.8684. Validation accuracy: 0.8691\n",
      "Epoch 43. Loss: 0.7539. Train accuracy: 0.8684. Validation accuracy: 0.8691\n",
      "Epoch 44. Loss: 0.7680. Train accuracy: 0.8684. Validation accuracy: 0.8691\n",
      "Epoch 45. Loss: 0.7378. Train accuracy: 0.8684. Validation accuracy: 0.8691\n",
      "Epoch 46. Loss: 0.7419. Train accuracy: 0.8692. Validation accuracy: 0.8691\n",
      "Epoch 47. Loss: 0.7309. Train accuracy: 0.8692. Validation accuracy: 0.8691\n",
      "Epoch 48. Loss: 0.7346. Train accuracy: 0.8692. Validation accuracy: 0.8691\n",
      "Epoch 49. Loss: 0.7367. Train accuracy: 0.8692. Validation accuracy: 0.8691\n",
      "Epoch 50. Loss: 0.7242. Train accuracy: 0.8692. Validation accuracy: 0.8691\n",
      "Epoch 51. Loss: 0.7264. Train accuracy: 0.8692. Validation accuracy: 0.8691\n",
      "Epoch 52. Loss: 0.7149. Train accuracy: 0.8692. Validation accuracy: 0.8691\n",
      "Epoch 53. Loss: 0.7191. Train accuracy: 0.8692. Validation accuracy: 0.8691\n",
      "Epoch 54. Loss: 0.7310. Train accuracy: 0.8692. Validation accuracy: 0.8691\n",
      "Epoch 55. Loss: 0.7152. Train accuracy: 0.8692. Validation accuracy: 0.8691\n",
      "Epoch 56. Loss: 0.7134. Train accuracy: 0.8692. Validation accuracy: 0.8691\n",
      "Epoch 57. Loss: 0.7067. Train accuracy: 0.8692. Validation accuracy: 0.8691\n",
      "Epoch 58. Loss: 0.7217. Train accuracy: 0.8692. Validation accuracy: 0.8691\n",
      "Epoch 59. Loss: 0.7024. Train accuracy: 0.8692. Validation accuracy: 0.8691\n",
      "Epoch 60. Loss: 0.6941. Train accuracy: 0.8692. Validation accuracy: 0.8691\n",
      "Epoch 61. Loss: 0.6905. Train accuracy: 0.8692. Validation accuracy: 0.8691\n",
      "Epoch 62. Loss: 0.6845. Train accuracy: 0.8692. Validation accuracy: 0.8691\n",
      "Epoch 63. Loss: 0.6882. Train accuracy: 0.8692. Validation accuracy: 0.8691\n",
      "Epoch 64. Loss: 0.6858. Train accuracy: 0.8692. Validation accuracy: 0.8691\n",
      "Epoch 65. Loss: 0.6963. Train accuracy: 0.8692. Validation accuracy: 0.8691\n",
      "Epoch 66. Loss: 0.6943. Train accuracy: 0.8699. Validation accuracy: 0.8691\n",
      "Epoch 67. Loss: 0.6831. Train accuracy: 0.8699. Validation accuracy: 0.8691\n",
      "Epoch 68. Loss: 0.6784. Train accuracy: 0.8699. Validation accuracy: 0.8691\n",
      "Epoch 69. Loss: 0.6771. Train accuracy: 0.8699. Validation accuracy: 0.8691\n",
      "Epoch 70. Loss: 0.6651. Train accuracy: 0.8699. Validation accuracy: 0.8691\n",
      "Epoch 71. Loss: 0.6670. Train accuracy: 0.8699. Validation accuracy: 0.8691\n",
      "Epoch 72. Loss: 0.6645. Train accuracy: 0.8699. Validation accuracy: 0.8691\n",
      "Epoch 73. Loss: 0.6746. Train accuracy: 0.8699. Validation accuracy: 0.8691\n",
      "Epoch 74. Loss: 0.6589. Train accuracy: 0.8699. Validation accuracy: 0.8691\n",
      "Epoch 75. Loss: 0.6608. Train accuracy: 0.8699. Validation accuracy: 0.8691\n",
      "Epoch 76. Loss: 0.6652. Train accuracy: 0.8699. Validation accuracy: 0.8691\n",
      "Epoch 77. Loss: 0.6499. Train accuracy: 0.8699. Validation accuracy: 0.8691\n",
      "Epoch 78. Loss: 0.6550. Train accuracy: 0.8699. Validation accuracy: 0.8691\n",
      "Epoch 79. Loss: 0.6487. Train accuracy: 0.8699. Validation accuracy: 0.8691\n",
      "Epoch 80. Loss: 0.6618. Train accuracy: 0.8699. Validation accuracy: 0.8691\n"
     ]
    }
   ],
   "source": [
    "def model_test(loader, model, is_validation=False, is_training=False):\n",
    "    ''' Testing Code of the Model '''\n",
    "    model.eval()\n",
    "\n",
    "    correct = 0\n",
    "    for data in loader:\n",
    "        with torch.no_grad():\n",
    "            emb, pred = model(data.x, data.edge_index)\n",
    "            pred = pred.argmax(dim=1)\n",
    "            # label = data.y\n",
    "\n",
    "        if is_training:\n",
    "            mask = data.train_mask\n",
    "        elif is_validation:\n",
    "            mask = data.val_mask\n",
    "        else: # testing\n",
    "            mask = data.test_mask\n",
    "        # node classification: only evaluate on nodes in test set\n",
    "        pred = pred[mask]\n",
    "        label = data.y[mask]\n",
    "        # testing code\n",
    "        # training_status = 'Training' if is_training else 'Testing'\n",
    "        # print(training_status, '$$pred', pred)\n",
    "        # print(training_status, '%%label', label)\n",
    "        correct += pred.eq(label).sum().item()\n",
    "    total = 0\n",
    "    for data in loader.dataset:\n",
    "        if is_training:\n",
    "            total += torch.sum(data.train_mask).item()\n",
    "        elif is_validation:\n",
    "            total += torch.sum(data.val_mask).item()\n",
    "        else:\n",
    "            total += torch.sum(data.test_mask).item()\n",
    "    return correct / total, pred, label\n",
    "\n",
    "def model_train(dataset, writer, model, epoch_num, lr, weight_decay, momentum):\n",
    "    ''' Training code of the model '''\n",
    "    test_loader = loader = DataLoader(dataset, shuffle=False)\n",
    "\n",
    "    # Optimizer\n",
    "    # opt = optim.SGD(model.parameters(), lr=lr, weight_decay=weight_decay, momentum=momentum)\n",
    "    opt = optim.Adam(model.parameters(), lr=lr, weight_decay=weight_decay)\n",
    "\n",
    "    # visualize the model architecture in tensorboard\n",
    "    # writer.add_graph(model, ( data.x, data.edge_index ))\n",
    "\n",
    "    # Training:\n",
    "    for epoch in range(epoch_num + 1):\n",
    "        total_loss = 0\n",
    "        model.train()\n",
    "        for batch in loader:\n",
    "            #print(batch.train_mask, '----')\n",
    "            opt.zero_grad()\n",
    "            embedding, pred = model(batch.x, batch.edge_index)\n",
    "            label = batch.y\n",
    "            pred = pred[batch.train_mask]\n",
    "            label = label[batch.train_mask]\n",
    "            loss = model.loss(pred, label)\n",
    "            loss.backward()\n",
    "            opt.step()\n",
    "            total_loss += loss.item() * batch.num_graphs\n",
    "        total_loss /= len(loader.dataset)\n",
    "        writer.add_scalar(\"loss\", total_loss, epoch)\n",
    "\n",
    "        # if epoch % 5 == 0:\n",
    "        train_acc, _, _ = model_test(test_loader, model, is_training=True)\n",
    "        validation_acc, _, _ = model_test(test_loader, model, is_training=False, is_validation=True)\n",
    "        print(\"Epoch {}. Loss: {:.4f}. Train accuracy: {:.4f}. Validation accuracy: {:.4f}\".format(\n",
    "            epoch, total_loss, train_acc, validation_acc))\n",
    "        writer.add_scalar(\"validation accuracy\", validation_acc, epoch)\n",
    "\n",
    "        if epoch % 20 == 0:\n",
    "            name = 'epoch' + str(epoch)\n",
    "            writer.add_embedding(embedding, global_step=epoch, tag=name, metadata=batch.y)\n",
    "\n",
    "    return model\n",
    "\n",
    "from datetime import datetime\n",
    "from tensorboardX import SummaryWriter\n",
    "\n",
    "writer = SummaryWriter(\"./log/\" + datetime.now().strftime(\"%Y%m%d-%H%M%S\"))\n",
    "\n",
    "model_trained = model_train([data], writer, model, epoch_num=80, lr=0.0001, weight_decay=0.00001, momentum=0.9)"
   ],
   "metadata": {
    "collapsed": false,
    "pycharm": {
     "name": "#%%\n"
    }
   }
  },
  {
   "cell_type": "markdown",
   "source": [],
   "metadata": {
    "collapsed": false,
    "pycharm": {
     "name": "#%% md\n"
    }
   }
  },
  {
   "cell_type": "markdown",
   "source": [
    "### Model Evaluation"
   ],
   "metadata": {
    "collapsed": false
   }
  },
  {
   "cell_type": "code",
   "execution_count": 16,
   "outputs": [],
   "source": [
    "test_acc, pred, label = model_test( DataLoader([data], shuffle=False), model_trained, is_training=False, is_validation=False)"
   ],
   "metadata": {
    "collapsed": false,
    "pycharm": {
     "name": "#%%\n"
    }
   }
  },
  {
   "cell_type": "code",
   "execution_count": 17,
   "outputs": [
    {
     "data": {
      "text/plain": "0.8623188405797102"
     },
     "execution_count": 17,
     "metadata": {},
     "output_type": "execute_result"
    }
   ],
   "source": [
    "test_acc"
   ],
   "metadata": {
    "collapsed": false,
    "pycharm": {
     "name": "#%%\n"
    }
   }
  },
  {
   "cell_type": "code",
   "execution_count": 18,
   "outputs": [],
   "source": [
    "pred_np = pred.cpu().detach().numpy()\n",
    "label_np = label.cpu().detach().numpy()"
   ],
   "metadata": {
    "collapsed": false,
    "pycharm": {
     "name": "#%%\n"
    }
   }
  },
  {
   "cell_type": "code",
   "execution_count": 19,
   "outputs": [],
   "source": [
    "from sklearn.metrics import f1_score,  recall_score, precision_score"
   ],
   "metadata": {
    "collapsed": false,
    "pycharm": {
     "name": "#%%\n"
    }
   }
  },
  {
   "cell_type": "code",
   "execution_count": 20,
   "outputs": [
    {
     "data": {
      "text/plain": "0.9260700389105059"
     },
     "execution_count": 20,
     "metadata": {},
     "output_type": "execute_result"
    }
   ],
   "source": [
    "f1_score(pred_np, label_np, average='weighted')"
   ],
   "metadata": {
    "collapsed": false,
    "pycharm": {
     "name": "#%%\n"
    }
   }
  },
  {
   "cell_type": "code",
   "execution_count": 21,
   "outputs": [
    {
     "data": {
      "text/plain": "1.0"
     },
     "execution_count": 21,
     "metadata": {},
     "output_type": "execute_result"
    }
   ],
   "source": [
    "precision_score(pred_np, label_np, average='weighted')"
   ],
   "metadata": {
    "collapsed": false,
    "pycharm": {
     "name": "#%%\n"
    }
   }
  },
  {
   "cell_type": "code",
   "execution_count": 22,
   "outputs": [
    {
     "data": {
      "text/plain": "0.8623188405797102"
     },
     "execution_count": 22,
     "metadata": {},
     "output_type": "execute_result"
    }
   ],
   "source": [
    "recall_score(pred_np, label_np, average='weighted')"
   ],
   "metadata": {
    "collapsed": false,
    "pycharm": {
     "name": "#%%\n"
    }
   }
  },
  {
   "cell_type": "markdown",
   "source": [
    "### Save model"
   ],
   "metadata": {
    "collapsed": false
   }
  },
  {
   "cell_type": "code",
   "execution_count": 23,
   "outputs": [],
   "source": [
    "# save model\n",
    "# torch.save(model_trained, f='pretrained_model.pth')"
   ],
   "metadata": {
    "collapsed": false,
    "pycharm": {
     "name": "#%%\n"
    }
   }
  },
  {
   "cell_type": "code",
   "execution_count": 23,
   "outputs": [],
   "source": [],
   "metadata": {
    "collapsed": false,
    "pycharm": {
     "name": "#%%\n"
    }
   }
  },
  {
   "cell_type": "code",
   "execution_count": 23,
   "outputs": [],
   "source": [],
   "metadata": {
    "collapsed": false,
    "pycharm": {
     "name": "#%%\n"
    }
   }
  },
  {
   "cell_type": "code",
   "execution_count": 23,
   "outputs": [],
   "source": [],
   "metadata": {
    "collapsed": false,
    "pycharm": {
     "name": "#%%\n"
    }
   }
  }
 ],
 "metadata": {
  "kernelspec": {
   "display_name": "Python 3",
   "language": "python",
   "name": "python3"
  },
  "language_info": {
   "codemirror_mode": {
    "name": "ipython",
    "version": 2
   },
   "file_extension": ".py",
   "mimetype": "text/x-python",
   "name": "python",
   "nbconvert_exporter": "python",
   "pygments_lexer": "ipython2",
   "version": "2.7.6"
  }
 },
 "nbformat": 4,
 "nbformat_minor": 0
}